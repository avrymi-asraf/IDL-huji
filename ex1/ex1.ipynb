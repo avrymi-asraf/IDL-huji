{
 "nbformat": 4,
 "nbformat_minor": 0,
 "metadata": {
  "colab": {
   "private_outputs": true,
   "provenance": [],
   "gpuType": "T4",
   "include_colab_link": true
  },
  "kernelspec": {
   "name": "python3",
   "display_name": "Python 3 (ipykernel)",
   "language": "python"
  },
  "language_info": {
   "name": "python"
  },
  "accelerator": "GPU"
 },
 "cells": [
  {
   "cell_type": "markdown",
   "metadata": {
    "id": "view-in-github",
    "colab_type": "text"
   },
   "source": [
    "<a href=\"https://colab.research.google.com/github/avrymi-asraf/IDL-huji/blob/main/ex1/ex1.ipynb\" target=\"_parent\"><img src=\"https://colab.research.google.com/assets/colab-badge.svg\" alt=\"Open In Colab\"/></a>"
   ]
  },
  {
   "cell_type": "code",
   "source": [
    "import pandas as pd\n",
    "import torch\n",
    "from torch.utils.data import TensorDataset, DataLoader\n",
    "import plotly.express as px"
   ],
   "metadata": {
    "id": "ViXcSiABL3A9",
    "ExecuteTime": {
     "end_time": "2024-05-29T14:45:32.439709Z",
     "start_time": "2024-05-29T14:45:32.357434Z"
    }
   },
   "outputs": [],
   "execution_count": 211
  },
  {
   "cell_type": "code",
   "source": [
    "# for clab\n",
    "# !git clone https://github.com/avrymi-asraf/IDL-huji.git\n",
    "# !mv /content/IDL-huji/ex1/ex1_data* ."
   ],
   "metadata": {
    "id": "NSb7IqrvNSL6",
    "ExecuteTime": {
     "end_time": "2024-05-29T14:45:32.470966Z",
     "start_time": "2024-05-29T14:45:32.439709Z"
    }
   },
   "outputs": [],
   "execution_count": 212
  },
  {
   "cell_type": "code",
   "source": [
    "# make data into 180 vector\n",
    "def load_raw(folder_path ='C:\\\\Users\\H\\PycharmProjects\\IDL-huji\\ex1\\ex1_data\\\\'):\n",
    "    raw_neg_data = open(folder_path+'neg_A0201.txt', 'r').read().split('\\n')\n",
    "    raw_pos_data = open(folder_path+'pos_A0201.txt', 'r').read().split('\\n')\n",
    "    return raw_neg_data, raw_pos_data\n",
    "# raw_neg_data , raw_pos_data = load_raw()\n",
    "raw_neg_data , raw_pos_data = load_raw('ex1_data/')\n",
    "\n",
    "amino_to_ind = {i:c for c,i in enumerate(set(\"\".join(raw_neg_data)))}\n"
   ],
   "metadata": {
    "id": "EWRJbOscRCsd",
    "ExecuteTime": {
     "end_time": "2024-05-29T14:45:32.555636Z",
     "start_time": "2024-05-29T14:45:32.502210Z"
    }
   },
   "outputs": [],
   "execution_count": 213
  },
  {
   "metadata": {
    "id": "Kn0BdGWO7mhO",
    "ExecuteTime": {
     "end_time": "2024-05-29T14:45:32.888043Z",
     "start_time": "2024-05-29T14:45:32.872569Z"
    }
   },
   "cell_type": "code",
   "source": [
    "def peptide2vec(peptides):\n",
    "    t = torch.zeros(len(peptides),len(amino_to_ind) * len(peptides[0]))\n",
    "    for j,peptide in enumerate(peptides):\n",
    "        for i,amino in enumerate(peptide):\n",
    "            t[j, i*len(amino_to_ind) +amino_to_ind[amino]] = 1\n",
    "    return t"
   ],
   "outputs": [],
   "execution_count": 214
  },
  {
   "metadata": {
    "id": "z_kvFe277mhO",
    "ExecuteTime": {
     "end_time": "2024-05-29T14:45:33.304342Z",
     "start_time": "2024-05-29T14:45:33.288710Z"
    }
   },
   "cell_type": "code",
   "source": [
    "#print(peptide2vec(load_raw()[1]))\n",
    "# t = peptide2vec(load_raw()[0][:10])\n",
    "# px.imshow(t)"
   ],
   "outputs": [],
   "execution_count": 215
  },
  {
   "metadata": {
    "id": "ycMc9anC7mhO",
    "ExecuteTime": {
     "end_time": "2024-05-29T14:45:33.804578Z",
     "start_time": "2024-05-29T14:45:33.773325Z"
    }
   },
   "cell_type": "code",
   "source": [
    "def load_vec_data(raw_neg_data , raw_pos_data):\n",
    "    neg_data = peptide2vec(raw_neg_data)\n",
    "    pos_data = peptide2vec(raw_pos_data)\n",
    "    return neg_data, pos_data\n"
   ],
   "outputs": [],
   "execution_count": 216
  },
  {
   "metadata": {
    "id": "svIllr187mhO",
    "ExecuteTime": {
     "end_time": "2024-05-29T14:45:34.187577Z",
     "start_time": "2024-05-29T14:45:34.172063Z"
    }
   },
   "cell_type": "code",
   "source": [
    "def split_train_test(neg_data, pos_data,ratio=0.9):\n",
    "    shuffle_pos = torch.randperm(len(pos_data))\n",
    "    num_train_pos = int(ratio*len(pos_data))\n",
    "    idx_train_pos = shuffle_pos[num_train_pos:]\n",
    "    idx_test_pos = shuffle_pos[:num_train_pos]\n",
    "\n",
    "    shuffle_neg = torch.randperm(len(neg_data))\n",
    "    num_train_neg = int(ratio*len(neg_data))\n",
    "    idx_train_neg = shuffle_neg[num_train_neg:]\n",
    "    idx_test_neg = shuffle_neg[:num_train_neg]\n",
    "\n",
    "    return pos_data[idx_train_pos],pos_data[idx_test_pos], neg_data[idx_train_neg], neg_data[idx_test_neg]\n",
    "\n",
    "#todo: try splitting after building data sets\n"
   ],
   "outputs": [],
   "execution_count": 217
  },
  {
   "metadata": {
    "id": "iYYIYFO97mhP",
    "ExecuteTime": {
     "end_time": "2024-05-29T14:45:34.729551Z",
     "start_time": "2024-05-29T14:45:34.687479Z"
    }
   },
   "cell_type": "code",
   "source": [
    "from torch.utils.data import WeightedRandomSampler\n",
    "\n",
    "\n",
    "def make_data_set(pos_train, pos_test, neg_train, neg_test):\n",
    "    train_data = torch.cat((pos_train, neg_train))\n",
    "    train_labels = torch.cat((torch.ones(len(pos_train)), torch.zeros(len(neg_train))))\n",
    "    train_data_set = TensorDataset(train_data, train_labels)\n",
    "\n",
    "    test_data = torch.cat((pos_test, neg_test))\n",
    "    test_labels = torch.cat((torch.ones(len(pos_test)), torch.zeros(len(neg_test))))\n",
    "\n",
    "    class_count = torch.bincount(train_labels.to(int))\n",
    "    class_weights = 1. / class_count.float()\n",
    "    sample_weights = class_weights[train_labels.to(int)]\n",
    "    train_sampler = WeightedRandomSampler(weights=sample_weights, num_samples=len(sample_weights), replacement=True)\n",
    "    return train_data_set, train_sampler, test_data, test_labels\n",
    "\n",
    "# todo: use BCEWithLogitsLoss whith pos_weight to balance the classes\n",
    "\n",
    "# todo: another option: use a dataloader, put the pos len(neg/pos) times in the dataset.\n"
   ],
   "outputs": [],
   "execution_count": 218
  },
  {
   "cell_type": "code",
   "source": [
    "def make_unbiased_data_loader(train_data_set, test_data, test_labels,batch_size=16,sampler=None):\n",
    "    train_loader = DataLoader(train_data_set, batch_size=batch_size,sampler=sampler)\n",
    "    # train_loader = DataLoader(train_data_set, batch_size=batch_size)\n",
    "    return train_loader, test_data, test_labels"
   ],
   "metadata": {
    "id": "ZOvr4zi0Aznw",
    "ExecuteTime": {
     "end_time": "2024-05-29T14:45:35.246665Z",
     "start_time": "2024-05-29T14:45:35.215377Z"
    }
   },
   "outputs": [],
   "execution_count": 219
  },
  {
   "metadata": {
    "ExecuteTime": {
     "end_time": "2024-05-29T14:46:59.044737Z",
     "start_time": "2024-05-29T14:46:59.024735Z"
    }
   },
   "cell_type": "code",
   "source": [
    "class MLP_multi_perceptron(torch.nn.Module):\n",
    "    def __init__(self, input_size, hidden_size1, hidden_size2, output_size):\n",
    "        super(MLP_multi_perceptron, self).__init__()\n",
    "        self.fc1 = torch.nn.Linear(input_size, hidden_size1)\n",
    "        self.relu = torch.nn.ReLU()\n",
    "        self.fc2 = torch.nn.Linear(hidden_size1, hidden_size2)\n",
    "        self.fc3 = torch.nn.Linear(hidden_size2, output_size)\n",
    "\n",
    "    def forward(self, x):\n",
    "        x = self.fc1(x)\n",
    "        x = self.relu(x)\n",
    "        x = self.fc2(x)\n",
    "        x = self.relu(x)\n",
    "        x = self.fc3(x)\n",
    "        return x"
   ],
   "outputs": [],
   "execution_count": 236
  },
  {
   "metadata": {
    "ExecuteTime": {
     "end_time": "2024-05-29T14:46:59.733483Z",
     "start_time": "2024-05-29T14:46:59.709481Z"
    }
   },
   "cell_type": "code",
   "source": [
    "def train_model(model,train_loader,test_data,test_labels,loss_fn,optimizer,epochs,device):\n",
    "    record_data = []\n",
    "    record_data_2 = []\n",
    "    record_data_3 = []\n",
    "    for epoch in range(epochs):\n",
    "        model.train()\n",
    "        train_loss = 0\n",
    "        for i, (data, labels) in enumerate(train_loader):\n",
    "            data, labels = data.to(device), labels.to(device)\n",
    "            optimizer.zero_grad()\n",
    "            output = model(data)\n",
    "            loss = loss_fn(output.squeeze(), labels)\n",
    "            loss.backward()\n",
    "            optimizer.step()\n",
    "            train_loss += loss.item()\n",
    "        train_loss /= len(train_loader)\n",
    "        model.eval()\n",
    "        with torch.no_grad():\n",
    "            test_data, test_labels = test_data.to(device), test_labels.to(device)\n",
    "            test_output = model(test_data)\n",
    "            test_loss = loss_fn(test_output.squeeze(), test_labels).item()\n",
    "            false_positive = ((test_output.squeeze() > 0) & (test_labels == 0)).sum().item()\n",
    "            false_negative = ((test_output.squeeze() < 0) & (test_labels == 1)).sum().item()\n",
    "            true_positive = ((test_output.squeeze() > 0) & (test_labels == 1)).sum().item()\n",
    "            true_negative = ((test_output.squeeze() < 0) & (test_labels == 0)).sum().item()\n",
    "            accuracy = (true_positive + true_negative) / len(test_labels)\n",
    "            precision = true_positive / (true_positive + false_positive + 1e-6)\n",
    "            recall = true_positive / (true_positive + false_negative + 1e-6)\n",
    "            f1 = 2 * precision * recall / (precision + recall + 1e-6)\n",
    "            print(f'epoch: {epoch}, train_loss: {train_loss}, test_loss: {test_loss}, accuracy: {accuracy}, precision: {precision}, recall: {recall}, f1: {f1}')\n",
    "        record_data.append({'epoch':epoch,'train_loss':train_loss,'test_loss':test_loss})\n",
    "        record_data_2.append({'epoch':epoch,'accuracy':accuracy,'precision':precision,'recall':recall,'f1':f1})\n",
    "        print(f'epoch: {epoch}, train_loss: {train_loss}, test_loss: {test_loss}')\n",
    "    return pd.DataFrame(record_data), pd.DataFrame(record_data_2)"
   ],
   "outputs": [],
   "execution_count": 237
  },
  {
   "metadata": {
    "id": "Jp18oa0Q7mhP",
    "ExecuteTime": {
     "end_time": "2024-05-29T16:01:58.605671Z",
     "start_time": "2024-05-29T16:01:58.590078Z"
    }
   },
   "cell_type": "code",
   "source": [
    "BATCH_SIZE = 32\n",
    "EPOCHS = 50\n",
    "LEARNING_RATE = 0.001\n",
    "HIDDEN_SIZE1 = 7\n",
    "HIDDEN_SIZE2 = 3\n",
    "INPUT_SIZE = len(amino_to_ind) * 9\n",
    "OUTPUT_SIZE = 1"
   ],
   "outputs": [],
   "execution_count": 391
  },
  {
   "cell_type": "code",
   "source": [
    "raw_neg_data, raw_pos_data = load_raw('ex1_data/')\n",
    "# raw_neg_data, raw_pos_data = load_raw()\n",
    "neg_data, pos_data = load_vec_data(raw_neg_data, raw_pos_data)\n",
    "pos_train, pos_test, neg_train, neg_test = split_train_test(neg_data, pos_data)\n",
    "train_data_set, sampler, test_data, test_labels = make_data_set(pos_train, pos_test, neg_train, neg_test)\n",
    "train_loader, test_data, test_labels = make_unbiased_data_loader(train_data_set, test_data, test_labels,BATCH_SIZE)"
   ],
   "metadata": {
    "id": "ufGBWSCiDpc4",
    "ExecuteTime": {
     "end_time": "2024-05-29T16:02:05.454350Z",
     "start_time": "2024-05-29T16:01:58.837370Z"
    }
   },
   "outputs": [],
   "execution_count": 392
  },
  {
   "metadata": {
    "id": "4oOX3BfL7mhP",
    "ExecuteTime": {
     "end_time": "2024-05-29T16:02:05.469997Z",
     "start_time": "2024-05-29T16:02:05.456393Z"
    }
   },
   "cell_type": "code",
   "source": [
    "DEVICE = 'cuda' if torch.cuda.is_available() else 'cpu'\n",
    "model = MLP_multi_perceptron(INPUT_SIZE, HIDDEN_SIZE1, HIDDEN_SIZE2, OUTPUT_SIZE).to(DEVICE)\n",
    "# loss_fn = torch.nn.BCELoss()\n",
    "MULT = 0.9\n",
    "LOSS_WHIGHT = torch.tensor([MULT *len(neg_train)/len(pos_train)]).to(DEVICE)\n",
    "loss_fn = torch.nn.BCEWithLogitsLoss(pos_weight=LOSS_WHIGHT)\n",
    "optimizer = torch.optim.Adam(model.parameters(), lr=LEARNING_RATE)"
   ],
   "outputs": [],
   "execution_count": 393
  },
  {
   "metadata": {
    "collapsed": true,
    "id": "o7igfN657mhP",
    "ExecuteTime": {
     "end_time": "2024-05-29T16:02:19.376476Z",
     "start_time": "2024-05-29T16:02:05.472175Z"
    }
   },
   "cell_type": "code",
   "source": [
    "record_data = train_model(model,train_loader,test_data,test_labels,loss_fn,optimizer,EPOCHS,DEVICE)"
   ],
   "outputs": [
    {
     "name": "stdout",
     "output_type": "stream",
     "text": [
      "epoch: 0, train_loss: 1.2320522991723792, test_loss: 1.220435619354248, accuracy: 0.10883363654740247, precision: 0.10883363654300247, recall: 0.999999999628529, f1: 0.19630273613808344\n",
      "epoch: 0, train_loss: 1.2320522991723792, test_loss: 1.220435619354248\n",
      "epoch: 1, train_loss: 1.2185739562955014, test_loss: 1.2040690183639526, accuracy: 0.10883363654740247, precision: 0.10883363654300247, recall: 0.999999999628529, f1: 0.19630273613808344\n",
      "epoch: 1, train_loss: 1.2185739562955014, test_loss: 1.2040690183639526\n",
      "epoch: 2, train_loss: 1.1962998745053313, test_loss: 1.168868899345398, accuracy: 0.10883363654740247, precision: 0.10883363654300247, recall: 0.999999999628529, f1: 0.19630273613808344\n",
      "epoch: 2, train_loss: 1.1962998745053313, test_loss: 1.168868899345398\n",
      "epoch: 3, train_loss: 1.1403608273628145, test_loss: 1.0834407806396484, accuracy: 0.6729330907620781, precision: 0.24799253032231627, recall: 0.9866270427241356, f1: 0.3963584313289693\n",
      "epoch: 3, train_loss: 1.1403608273628145, test_loss: 1.0834407806396484\n",
      "epoch: 4, train_loss: 1.0550308137439017, test_loss: 0.9886534214019775, accuracy: 0.8764503739640186, precision: 0.45893501794699115, recall: 0.7555720650982274, f1: 0.571027042301191\n",
      "epoch: 4, train_loss: 1.0550308137439017, test_loss: 0.9886534214019775\n",
      "epoch: 5, train_loss: 0.9642170504775158, test_loss: 0.9036306142807007, accuracy: 0.8920962199312715, precision: 0.5033401102226721, recall: 0.6437592865364936, f1: 0.5649546825327751\n",
      "epoch: 5, train_loss: 0.9642170504775158, test_loss: 0.9036306142807007\n",
      "epoch: 6, train_loss: 0.8798528660175412, test_loss: 0.8294695615768433, accuracy: 0.8914089347079038, precision: 0.5008250823705102, recall: 0.676448736747233, f1: 0.5755368055094328\n",
      "epoch: 6, train_loss: 0.8798528660175412, test_loss: 0.8294695615768433\n",
      "epoch: 7, train_loss: 0.79885568417782, test_loss: 0.7708504796028137, accuracy: 0.8899130786335152, precision: 0.49598341526406237, recall: 0.7109955420835826, f1: 0.5843377846556363\n",
      "epoch: 7, train_loss: 0.79885568417782, test_loss: 0.7708504796028137\n",
      "epoch: 8, train_loss: 0.7378340533306432, test_loss: 0.7240366339683533, accuracy: 0.8864766525166767, precision: 0.48600386088658204, recall: 0.7481426445957866, f1: 0.589232992251338\n",
      "epoch: 8, train_loss: 0.7378340533306432, test_loss: 0.7240366339683533\n",
      "epoch: 9, train_loss: 0.6845164538122886, test_loss: 0.688680112361908, accuracy: 0.8852637962401455, precision: 0.4829039811515447, recall: 0.7659732538016445, f1: 0.5923580431847002\n",
      "epoch: 9, train_loss: 0.6845164538122886, test_loss: 0.688680112361908\n",
      "epoch: 10, train_loss: 0.6441602240814719, test_loss: 0.6581035256385803, accuracy: 0.8833636547402466, precision: 0.4781822291480483, recall: 0.7856612181331125, f1: 0.5945181520562319\n",
      "epoch: 10, train_loss: 0.6441602240814719, test_loss: 0.6581035256385803\n",
      "epoch: 11, train_loss: 0.608289491991664, test_loss: 0.6315634250640869, accuracy: 0.8818677986658581, precision: 0.47472527462093944, recall: 0.8023774142636043, f1: 0.5965198310070261\n",
      "epoch: 11, train_loss: 0.608289491991664, test_loss: 0.6315634250640869\n",
      "epoch: 12, train_loss: 0.5766570133178733, test_loss: 0.6076505780220032, accuracy: 0.8794016575702446, precision: 0.46915412328404615, recall: 0.8220653785950723, f1: 0.5973811001539453\n",
      "epoch: 12, train_loss: 0.5766570133178733, test_loss: 0.6076505780220032\n",
      "epoch: 13, train_loss: 0.5459392959641856, test_loss: 0.5882372856140137, accuracy: 0.8784718010915706, precision: 0.4671410631085933, recall: 0.8291233280723911, f1: 0.5975899002765162\n",
      "epoch: 13, train_loss: 0.5459392959641856, test_loss: 0.5882372856140137\n",
      "epoch: 14, train_loss: 0.521735169513281, test_loss: 0.5697987079620361, accuracy: 0.8772185162724884, precision: 0.4647311387313982, recall: 0.8443536401023947, f1: 0.5994984209611638\n",
      "epoch: 14, train_loss: 0.521735169513281, test_loss: 0.5697987079620361\n",
      "epoch: 15, train_loss: 0.4948564592835515, test_loss: 0.5583738684654236, accuracy: 0.8779058014958561, precision: 0.46640721006423447, recall: 0.8458395242028828, f1: 0.6012670357032168\n",
      "epoch: 15, train_loss: 0.4948564592835515, test_loss: 0.5583738684654236\n",
      "epoch: 16, train_loss: 0.4773170264481112, test_loss: 0.546986997127533, accuracy: 0.8762886597938144, precision: 0.46294804662445665, recall: 0.8540118867555677, f1: 0.6004174076034952\n",
      "epoch: 16, train_loss: 0.4773170264481112, test_loss: 0.546986997127533\n",
      "epoch: 17, train_loss: 0.45645355259956316, test_loss: 0.5420116782188416, accuracy: 0.8771780877299373, precision: 0.46485168621193584, recall: 0.8499257054792253, f1: 0.6009977040141268\n",
      "epoch: 17, train_loss: 0.45645355259956316, test_loss: 0.5420116782188416\n",
      "epoch: 18, train_loss: 0.44479378841297573, test_loss: 0.5357071757316589, accuracy: 0.8756013745704467, precision: 0.4613065325705916, recall: 0.8525260026550795, f1: 0.5986691672374318\n",
      "epoch: 18, train_loss: 0.44479378841297573, test_loss: 0.5357071757316589\n",
      "epoch: 19, train_loss: 0.42720615482607555, test_loss: 0.535936713218689, accuracy: 0.8776632302405498, precision: 0.4658626327747623, recall: 0.8465824662531269, f1: 0.6010016516209743\n",
      "epoch: 19, train_loss: 0.42720615482607555, test_loss: 0.535936713218689\n",
      "epoch: 20, train_loss: 0.4206115458767081, test_loss: 0.5321930050849915, accuracy: 0.8767333737618759, precision: 0.46382978714005474, recall: 0.8502971765043473, f1: 0.6002355467576402\n",
      "epoch: 20, train_loss: 0.4206115458767081, test_loss: 0.5321930050849915\n",
      "epoch: 21, train_loss: 0.4057691250602866, test_loss: 0.5350762009620667, accuracy: 0.8783100869213665, precision: 0.46728395052113497, recall: 0.8436106980521506, f1: 0.6014296257932285\n",
      "epoch: 21, train_loss: 0.4057691250602866, test_loss: 0.5350762009620667\n",
      "epoch: 22, train_loss: 0.4007705997589023, test_loss: 0.5332998037338257, accuracy: 0.8770568021022842, precision: 0.46442405698992373, recall: 0.8462109952280049, f1: 0.5997099542748181\n",
      "epoch: 22, train_loss: 0.4007705997589023, test_loss: 0.5332998037338257\n",
      "epoch: 23, train_loss: 0.38816805885628214, test_loss: 0.5375815033912659, accuracy: 0.8779866585809581, precision: 0.4661685345649297, recall: 0.8343239224240996, f1: 0.5981353588189373\n",
      "epoch: 23, train_loss: 0.38816805885628214, test_loss: 0.5375815033912659\n",
      "epoch: 24, train_loss: 0.38429307556429576, test_loss: 0.5368836522102356, accuracy: 0.8776228016979988, precision: 0.46549948497106086, recall: 0.8395245167758082, f1: 0.5989130164657476\n",
      "epoch: 24, train_loss: 0.38429307556429576, test_loss: 0.5368836522102356\n",
      "epoch: 25, train_loss: 0.37154602034147394, test_loss: 0.5445019006729126, accuracy: 0.8795229431978977, precision: 0.4697097180332962, recall: 0.8294947990975131, f1: 0.5997846577108552\n",
      "epoch: 25, train_loss: 0.37154602034147394, test_loss: 0.5445019006729126\n",
      "epoch: 26, train_loss: 0.3708960599330969, test_loss: 0.5436826348304749, accuracy: 0.8783100869213665, precision: 0.4669850497369217, recall: 0.8354383354994658, f1: 0.599093839270431\n",
      "epoch: 26, train_loss: 0.3708960599330969, test_loss: 0.5436826348304749\n",
      "epoch: 27, train_loss: 0.35910849784349286, test_loss: 0.5509442687034607, accuracy: 0.8801293713361633, precision: 0.471111111011405, recall: 0.8268945019216588, f1: 0.6002422231259065\n",
      "epoch: 27, train_loss: 0.35910849784349286, test_loss: 0.5509442687034607\n",
      "epoch: 28, train_loss: 0.3568356768336407, test_loss: 0.5532454252243042, accuracy: 0.8792399434000404, precision: 0.4689408295496018, recall: 0.8272659729467808, f1: 0.5985749983369731\n",
      "epoch: 28, train_loss: 0.3568356768336407, test_loss: 0.5532454252243042\n",
      "epoch: 29, train_loss: 0.3481879077938407, test_loss: 0.5606906414031982, accuracy: 0.8806549423893268, precision: 0.47232865038903177, recall: 0.8242942047458046, f1: 0.6005408086689855\n",
      "epoch: 29, train_loss: 0.3481879077938407, test_loss: 0.5606906414031982\n",
      "epoch: 30, train_loss: 0.34486573276131655, test_loss: 0.5646746754646301, accuracy: 0.880857085102082, precision: 0.47285501373794864, recall: 0.8250371467960487, f1: 0.6011634289251571\n",
      "epoch: 30, train_loss: 0.34486573276131655, test_loss: 0.5646746754646301\n",
      "epoch: 31, train_loss: 0.3378838409864625, test_loss: 0.5718950629234314, accuracy: 0.8812209419850414, precision: 0.4736842104249713, recall: 0.8224368496201944, f1: 0.6011399107321223\n",
      "epoch: 31, train_loss: 0.3378838409864625, test_loss: 0.5718950629234314\n",
      "epoch: 32, train_loss: 0.333599055445818, test_loss: 0.5783327221870422, accuracy: 0.8815443703254497, precision: 0.4743755382268786, recall: 0.818350668343852, f1: 0.6005993171347404\n",
      "epoch: 32, train_loss: 0.333599055445818, test_loss: 0.5783327221870422\n",
      "epoch: 33, train_loss: 0.32922692865479825, test_loss: 0.5844877362251282, accuracy: 0.881827370123307, precision: 0.4750593823202204, recall: 0.8172362552684859, f1: 0.600846182439885\n",
      "epoch: 33, train_loss: 0.32922692865479825, test_loss: 0.5844877362251282\n",
      "epoch: 34, train_loss: 0.3237879100840452, test_loss: 0.5916908979415894, accuracy: 0.8820699413786133, precision: 0.47559123443792767, recall: 0.8142644870675095, f1: 0.6004652239380844\n",
      "epoch: 34, train_loss: 0.3237879100840452, test_loss: 0.5916908979415894\n",
      "epoch: 35, train_loss: 0.31987472458980803, test_loss: 0.5986403822898865, accuracy: 0.8821103699211643, precision: 0.47560975599398736, recall: 0.8112927188665332, f1: 0.5996700445643466\n",
      "epoch: 35, train_loss: 0.31987472458980803, test_loss: 0.5986403822898865\n",
      "epoch: 36, train_loss: 0.3144038706411456, test_loss: 0.6078072190284729, accuracy: 0.8826763695168789, precision: 0.476953467849659, recall: 0.8072065375901908, f1: 0.5996132194384578\n",
      "epoch: 36, train_loss: 0.3144038706411456, test_loss: 0.6078072190284729\n",
      "epoch: 37, train_loss: 0.3110391264131596, test_loss: 0.6143442392349243, accuracy: 0.8831615120274914, precision: 0.4781842220189105, recall: 0.8060921245148247, f1: 0.6002761576026397\n",
      "epoch: 37, train_loss: 0.3110391264131596, test_loss: 0.6143442392349243\n",
      "epoch: 38, train_loss: 0.30605168664438087, test_loss: 0.6241377592086792, accuracy: 0.8835253689104507, precision: 0.47901399056650806, recall: 0.8012630011882381, f1: 0.5995825752911944\n",
      "epoch: 38, train_loss: 0.30605168664438087, test_loss: 0.6241377592086792\n",
      "epoch: 39, train_loss: 0.30235319604100874, test_loss: 0.6323075890541077, accuracy: 0.883808368708308, precision: 0.4797056198751771, recall: 0.799034175037506, f1: 0.5994978587728418\n",
      "epoch: 39, train_loss: 0.30235319604100874, test_loss: 0.6323075890541077\n",
      "epoch: 40, train_loss: 0.29842930984531724, test_loss: 0.6416770219802856, accuracy: 0.8839296543359612, precision: 0.47993723369649466, recall: 0.7953194647862856, f1: 0.5986294758912382\n",
      "epoch: 40, train_loss: 0.29842930984531724, test_loss: 0.6416770219802856\n",
      "epoch: 41, train_loss: 0.2939065851617691, test_loss: 0.6516414880752563, accuracy: 0.8843339397614716, precision: 0.4809470122929093, recall: 0.7923476965853092, f1: 0.5985683525244966\n",
      "epoch: 41, train_loss: 0.2939065851617691, test_loss: 0.6516414880752563\n",
      "epoch: 42, train_loss: 0.2916771852259719, test_loss: 0.658930242061615, accuracy: 0.8842530826763695, precision: 0.48071283544310556, recall: 0.7916047545350652, f1: 0.5981749682826274\n",
      "epoch: 42, train_loss: 0.2916771852259719, test_loss: 0.658930242061615\n",
      "epoch: 43, train_loss: 0.2857925356907207, test_loss: 0.6719071269035339, accuracy: 0.8848595108146351, precision: 0.48224852060030754, recall: 0.7871471022336006, f1: 0.5980802512291559\n",
      "epoch: 43, train_loss: 0.2857925356907207, test_loss: 0.6719071269035339\n",
      "epoch: 44, train_loss: 0.2838358009277388, test_loss: 0.6798946261405945, accuracy: 0.8851020820699413, precision: 0.48287671221852124, recall: 0.7856612181331125, f1: 0.598133012480041\n",
      "epoch: 44, train_loss: 0.2838358009277388, test_loss: 0.6798946261405945\n",
      "epoch: 45, train_loss: 0.27949799138099646, test_loss: 0.6910818219184875, accuracy: 0.8853850818677986, precision: 0.4835820894411981, recall: 0.7823179789070142, f1: 0.5977006771009467\n",
      "epoch: 45, train_loss: 0.27949799138099646, test_loss: 0.6910818219184875\n",
      "epoch: 46, train_loss: 0.2767264460061872, test_loss: 0.7007250189781189, accuracy: 0.8851425106124924, precision: 0.4828774993144386, recall: 0.780460623781404, f1: 0.5966202857731976\n",
      "epoch: 46, train_loss: 0.2767264460061872, test_loss: 0.7007250189781189\n",
      "epoch: 47, train_loss: 0.27164113155544495, test_loss: 0.7146449089050293, accuracy: 0.8859915100060642, precision: 0.4851508119524012, recall: 0.7767459135301835, f1: 0.5972574528348\n",
      "epoch: 47, train_loss: 0.27164113155544495, test_loss: 0.7146449089050293\n",
      "epoch: 48, train_loss: 0.2703398263818303, test_loss: 0.7221712470054626, accuracy: 0.885748938750758, precision: 0.48449074062859004, recall: 0.7774888555804277, f1: 0.596976138305453\n",
      "epoch: 48, train_loss: 0.2703398263818303, test_loss: 0.7221712470054626\n",
      "epoch: 49, train_loss: 0.26561772946788126, test_loss: 0.7357966899871826, accuracy: 0.8864362239741257, precision: 0.48637951094612814, recall: 0.7760029714799395, f1: 0.5979671803623425\n",
      "epoch: 49, train_loss: 0.26561772946788126, test_loss: 0.7357966899871826\n"
     ]
    }
   ],
   "execution_count": 394
  },
  {
   "metadata": {
    "id": "4FbUICNP7mhQ",
    "ExecuteTime": {
     "end_time": "2024-05-29T16:02:19.468158Z",
     "start_time": "2024-05-29T16:02:19.378515Z"
    }
   },
   "cell_type": "code",
   "source": "px.line(record_data[0],x='epoch',y=['train_loss','test_loss'])",
   "outputs": [
    {
     "data": {
      "application/vnd.plotly.v1+json": {
       "data": [
        {
         "hovertemplate": "variable=train_loss<br>epoch=%{x}<br>value=%{y}<extra></extra>",
         "legendgroup": "train_loss",
         "line": {
          "color": "#636efa",
          "dash": "solid"
         },
         "marker": {
          "symbol": "circle"
         },
         "mode": "lines",
         "name": "train_loss",
         "orientation": "v",
         "showlegend": true,
         "x": [
          0,
          1,
          2,
          3,
          4,
          5,
          6,
          7,
          8,
          9,
          10,
          11,
          12,
          13,
          14,
          15,
          16,
          17,
          18,
          19,
          20,
          21,
          22,
          23,
          24,
          25,
          26,
          27,
          28,
          29,
          30,
          31,
          32,
          33,
          34,
          35,
          36,
          37,
          38,
          39,
          40,
          41,
          42,
          43,
          44,
          45,
          46,
          47,
          48,
          49
         ],
         "xaxis": "x",
         "y": [
          1.2320522991723792,
          1.2185739562955014,
          1.1962998745053313,
          1.1403608273628145,
          1.0550308137439017,
          0.9642170504775158,
          0.8798528660175412,
          0.79885568417782,
          0.7378340533306432,
          0.6845164538122886,
          0.6441602240814719,
          0.608289491991664,
          0.5766570133178733,
          0.5459392959641856,
          0.521735169513281,
          0.4948564592835515,
          0.4773170264481112,
          0.45645355259956316,
          0.44479378841297573,
          0.42720615482607555,
          0.4206115458767081,
          0.4057691250602866,
          0.4007705997589023,
          0.38816805885628214,
          0.38429307556429576,
          0.37154602034147394,
          0.3708960599330969,
          0.35910849784349286,
          0.3568356768336407,
          0.3481879077938407,
          0.34486573276131655,
          0.3378838409864625,
          0.333599055445818,
          0.32922692865479825,
          0.3237879100840452,
          0.31987472458980803,
          0.3144038706411456,
          0.3110391264131596,
          0.30605168664438087,
          0.30235319604100874,
          0.29842930984531724,
          0.2939065851617691,
          0.2916771852259719,
          0.2857925356907207,
          0.2838358009277388,
          0.27949799138099646,
          0.2767264460061872,
          0.27164113155544495,
          0.2703398263818303,
          0.26561772946788126
         ],
         "yaxis": "y",
         "type": "scatter"
        },
        {
         "hovertemplate": "variable=test_loss<br>epoch=%{x}<br>value=%{y}<extra></extra>",
         "legendgroup": "test_loss",
         "line": {
          "color": "#EF553B",
          "dash": "solid"
         },
         "marker": {
          "symbol": "circle"
         },
         "mode": "lines",
         "name": "test_loss",
         "orientation": "v",
         "showlegend": true,
         "x": [
          0,
          1,
          2,
          3,
          4,
          5,
          6,
          7,
          8,
          9,
          10,
          11,
          12,
          13,
          14,
          15,
          16,
          17,
          18,
          19,
          20,
          21,
          22,
          23,
          24,
          25,
          26,
          27,
          28,
          29,
          30,
          31,
          32,
          33,
          34,
          35,
          36,
          37,
          38,
          39,
          40,
          41,
          42,
          43,
          44,
          45,
          46,
          47,
          48,
          49
         ],
         "xaxis": "x",
         "y": [
          1.220435619354248,
          1.2040690183639526,
          1.168868899345398,
          1.0834407806396484,
          0.9886534214019775,
          0.9036306142807007,
          0.8294695615768433,
          0.7708504796028137,
          0.7240366339683533,
          0.688680112361908,
          0.6581035256385803,
          0.6315634250640869,
          0.6076505780220032,
          0.5882372856140137,
          0.5697987079620361,
          0.5583738684654236,
          0.546986997127533,
          0.5420116782188416,
          0.5357071757316589,
          0.535936713218689,
          0.5321930050849915,
          0.5350762009620667,
          0.5332998037338257,
          0.5375815033912659,
          0.5368836522102356,
          0.5445019006729126,
          0.5436826348304749,
          0.5509442687034607,
          0.5532454252243042,
          0.5606906414031982,
          0.5646746754646301,
          0.5718950629234314,
          0.5783327221870422,
          0.5844877362251282,
          0.5916908979415894,
          0.5986403822898865,
          0.6078072190284729,
          0.6143442392349243,
          0.6241377592086792,
          0.6323075890541077,
          0.6416770219802856,
          0.6516414880752563,
          0.658930242061615,
          0.6719071269035339,
          0.6798946261405945,
          0.6910818219184875,
          0.7007250189781189,
          0.7146449089050293,
          0.7221712470054626,
          0.7357966899871826
         ],
         "yaxis": "y",
         "type": "scatter"
        }
       ],
       "layout": {
        "template": {
         "data": {
          "histogram2dcontour": [
           {
            "type": "histogram2dcontour",
            "colorbar": {
             "outlinewidth": 0,
             "ticks": ""
            },
            "colorscale": [
             [
              0.0,
              "#0d0887"
             ],
             [
              0.1111111111111111,
              "#46039f"
             ],
             [
              0.2222222222222222,
              "#7201a8"
             ],
             [
              0.3333333333333333,
              "#9c179e"
             ],
             [
              0.4444444444444444,
              "#bd3786"
             ],
             [
              0.5555555555555556,
              "#d8576b"
             ],
             [
              0.6666666666666666,
              "#ed7953"
             ],
             [
              0.7777777777777778,
              "#fb9f3a"
             ],
             [
              0.8888888888888888,
              "#fdca26"
             ],
             [
              1.0,
              "#f0f921"
             ]
            ]
           }
          ],
          "choropleth": [
           {
            "type": "choropleth",
            "colorbar": {
             "outlinewidth": 0,
             "ticks": ""
            }
           }
          ],
          "histogram2d": [
           {
            "type": "histogram2d",
            "colorbar": {
             "outlinewidth": 0,
             "ticks": ""
            },
            "colorscale": [
             [
              0.0,
              "#0d0887"
             ],
             [
              0.1111111111111111,
              "#46039f"
             ],
             [
              0.2222222222222222,
              "#7201a8"
             ],
             [
              0.3333333333333333,
              "#9c179e"
             ],
             [
              0.4444444444444444,
              "#bd3786"
             ],
             [
              0.5555555555555556,
              "#d8576b"
             ],
             [
              0.6666666666666666,
              "#ed7953"
             ],
             [
              0.7777777777777778,
              "#fb9f3a"
             ],
             [
              0.8888888888888888,
              "#fdca26"
             ],
             [
              1.0,
              "#f0f921"
             ]
            ]
           }
          ],
          "heatmap": [
           {
            "type": "heatmap",
            "colorbar": {
             "outlinewidth": 0,
             "ticks": ""
            },
            "colorscale": [
             [
              0.0,
              "#0d0887"
             ],
             [
              0.1111111111111111,
              "#46039f"
             ],
             [
              0.2222222222222222,
              "#7201a8"
             ],
             [
              0.3333333333333333,
              "#9c179e"
             ],
             [
              0.4444444444444444,
              "#bd3786"
             ],
             [
              0.5555555555555556,
              "#d8576b"
             ],
             [
              0.6666666666666666,
              "#ed7953"
             ],
             [
              0.7777777777777778,
              "#fb9f3a"
             ],
             [
              0.8888888888888888,
              "#fdca26"
             ],
             [
              1.0,
              "#f0f921"
             ]
            ]
           }
          ],
          "heatmapgl": [
           {
            "type": "heatmapgl",
            "colorbar": {
             "outlinewidth": 0,
             "ticks": ""
            },
            "colorscale": [
             [
              0.0,
              "#0d0887"
             ],
             [
              0.1111111111111111,
              "#46039f"
             ],
             [
              0.2222222222222222,
              "#7201a8"
             ],
             [
              0.3333333333333333,
              "#9c179e"
             ],
             [
              0.4444444444444444,
              "#bd3786"
             ],
             [
              0.5555555555555556,
              "#d8576b"
             ],
             [
              0.6666666666666666,
              "#ed7953"
             ],
             [
              0.7777777777777778,
              "#fb9f3a"
             ],
             [
              0.8888888888888888,
              "#fdca26"
             ],
             [
              1.0,
              "#f0f921"
             ]
            ]
           }
          ],
          "contourcarpet": [
           {
            "type": "contourcarpet",
            "colorbar": {
             "outlinewidth": 0,
             "ticks": ""
            }
           }
          ],
          "contour": [
           {
            "type": "contour",
            "colorbar": {
             "outlinewidth": 0,
             "ticks": ""
            },
            "colorscale": [
             [
              0.0,
              "#0d0887"
             ],
             [
              0.1111111111111111,
              "#46039f"
             ],
             [
              0.2222222222222222,
              "#7201a8"
             ],
             [
              0.3333333333333333,
              "#9c179e"
             ],
             [
              0.4444444444444444,
              "#bd3786"
             ],
             [
              0.5555555555555556,
              "#d8576b"
             ],
             [
              0.6666666666666666,
              "#ed7953"
             ],
             [
              0.7777777777777778,
              "#fb9f3a"
             ],
             [
              0.8888888888888888,
              "#fdca26"
             ],
             [
              1.0,
              "#f0f921"
             ]
            ]
           }
          ],
          "surface": [
           {
            "type": "surface",
            "colorbar": {
             "outlinewidth": 0,
             "ticks": ""
            },
            "colorscale": [
             [
              0.0,
              "#0d0887"
             ],
             [
              0.1111111111111111,
              "#46039f"
             ],
             [
              0.2222222222222222,
              "#7201a8"
             ],
             [
              0.3333333333333333,
              "#9c179e"
             ],
             [
              0.4444444444444444,
              "#bd3786"
             ],
             [
              0.5555555555555556,
              "#d8576b"
             ],
             [
              0.6666666666666666,
              "#ed7953"
             ],
             [
              0.7777777777777778,
              "#fb9f3a"
             ],
             [
              0.8888888888888888,
              "#fdca26"
             ],
             [
              1.0,
              "#f0f921"
             ]
            ]
           }
          ],
          "mesh3d": [
           {
            "type": "mesh3d",
            "colorbar": {
             "outlinewidth": 0,
             "ticks": ""
            }
           }
          ],
          "scatter": [
           {
            "marker": {
             "line": {
              "color": "#283442"
             }
            },
            "type": "scatter"
           }
          ],
          "parcoords": [
           {
            "type": "parcoords",
            "line": {
             "colorbar": {
              "outlinewidth": 0,
              "ticks": ""
             }
            }
           }
          ],
          "scatterpolargl": [
           {
            "type": "scatterpolargl",
            "marker": {
             "colorbar": {
              "outlinewidth": 0,
              "ticks": ""
             }
            }
           }
          ],
          "bar": [
           {
            "error_x": {
             "color": "#f2f5fa"
            },
            "error_y": {
             "color": "#f2f5fa"
            },
            "marker": {
             "line": {
              "color": "rgb(17,17,17)",
              "width": 0.5
             },
             "pattern": {
              "fillmode": "overlay",
              "size": 10,
              "solidity": 0.2
             }
            },
            "type": "bar"
           }
          ],
          "scattergeo": [
           {
            "type": "scattergeo",
            "marker": {
             "colorbar": {
              "outlinewidth": 0,
              "ticks": ""
             }
            }
           }
          ],
          "scatterpolar": [
           {
            "type": "scatterpolar",
            "marker": {
             "colorbar": {
              "outlinewidth": 0,
              "ticks": ""
             }
            }
           }
          ],
          "histogram": [
           {
            "marker": {
             "pattern": {
              "fillmode": "overlay",
              "size": 10,
              "solidity": 0.2
             }
            },
            "type": "histogram"
           }
          ],
          "scattergl": [
           {
            "marker": {
             "line": {
              "color": "#283442"
             }
            },
            "type": "scattergl"
           }
          ],
          "scatter3d": [
           {
            "type": "scatter3d",
            "line": {
             "colorbar": {
              "outlinewidth": 0,
              "ticks": ""
             }
            },
            "marker": {
             "colorbar": {
              "outlinewidth": 0,
              "ticks": ""
             }
            }
           }
          ],
          "scattermapbox": [
           {
            "type": "scattermapbox",
            "marker": {
             "colorbar": {
              "outlinewidth": 0,
              "ticks": ""
             }
            }
           }
          ],
          "scatterternary": [
           {
            "type": "scatterternary",
            "marker": {
             "colorbar": {
              "outlinewidth": 0,
              "ticks": ""
             }
            }
           }
          ],
          "scattercarpet": [
           {
            "type": "scattercarpet",
            "marker": {
             "colorbar": {
              "outlinewidth": 0,
              "ticks": ""
             }
            }
           }
          ],
          "carpet": [
           {
            "aaxis": {
             "endlinecolor": "#A2B1C6",
             "gridcolor": "#506784",
             "linecolor": "#506784",
             "minorgridcolor": "#506784",
             "startlinecolor": "#A2B1C6"
            },
            "baxis": {
             "endlinecolor": "#A2B1C6",
             "gridcolor": "#506784",
             "linecolor": "#506784",
             "minorgridcolor": "#506784",
             "startlinecolor": "#A2B1C6"
            },
            "type": "carpet"
           }
          ],
          "table": [
           {
            "cells": {
             "fill": {
              "color": "#506784"
             },
             "line": {
              "color": "rgb(17,17,17)"
             }
            },
            "header": {
             "fill": {
              "color": "#2a3f5f"
             },
             "line": {
              "color": "rgb(17,17,17)"
             }
            },
            "type": "table"
           }
          ],
          "barpolar": [
           {
            "marker": {
             "line": {
              "color": "rgb(17,17,17)",
              "width": 0.5
             },
             "pattern": {
              "fillmode": "overlay",
              "size": 10,
              "solidity": 0.2
             }
            },
            "type": "barpolar"
           }
          ],
          "pie": [
           {
            "automargin": true,
            "type": "pie"
           }
          ]
         },
         "layout": {
          "autotypenumbers": "strict",
          "colorway": [
           "#636efa",
           "#EF553B",
           "#00cc96",
           "#ab63fa",
           "#FFA15A",
           "#19d3f3",
           "#FF6692",
           "#B6E880",
           "#FF97FF",
           "#FECB52"
          ],
          "font": {
           "color": "#f2f5fa"
          },
          "hovermode": "closest",
          "hoverlabel": {
           "align": "left"
          },
          "paper_bgcolor": "rgb(17,17,17)",
          "plot_bgcolor": "rgb(17,17,17)",
          "polar": {
           "bgcolor": "rgb(17,17,17)",
           "angularaxis": {
            "gridcolor": "#506784",
            "linecolor": "#506784",
            "ticks": ""
           },
           "radialaxis": {
            "gridcolor": "#506784",
            "linecolor": "#506784",
            "ticks": ""
           }
          },
          "ternary": {
           "bgcolor": "rgb(17,17,17)",
           "aaxis": {
            "gridcolor": "#506784",
            "linecolor": "#506784",
            "ticks": ""
           },
           "baxis": {
            "gridcolor": "#506784",
            "linecolor": "#506784",
            "ticks": ""
           },
           "caxis": {
            "gridcolor": "#506784",
            "linecolor": "#506784",
            "ticks": ""
           }
          },
          "coloraxis": {
           "colorbar": {
            "outlinewidth": 0,
            "ticks": ""
           }
          },
          "colorscale": {
           "sequential": [
            [
             0.0,
             "#0d0887"
            ],
            [
             0.1111111111111111,
             "#46039f"
            ],
            [
             0.2222222222222222,
             "#7201a8"
            ],
            [
             0.3333333333333333,
             "#9c179e"
            ],
            [
             0.4444444444444444,
             "#bd3786"
            ],
            [
             0.5555555555555556,
             "#d8576b"
            ],
            [
             0.6666666666666666,
             "#ed7953"
            ],
            [
             0.7777777777777778,
             "#fb9f3a"
            ],
            [
             0.8888888888888888,
             "#fdca26"
            ],
            [
             1.0,
             "#f0f921"
            ]
           ],
           "sequentialminus": [
            [
             0.0,
             "#0d0887"
            ],
            [
             0.1111111111111111,
             "#46039f"
            ],
            [
             0.2222222222222222,
             "#7201a8"
            ],
            [
             0.3333333333333333,
             "#9c179e"
            ],
            [
             0.4444444444444444,
             "#bd3786"
            ],
            [
             0.5555555555555556,
             "#d8576b"
            ],
            [
             0.6666666666666666,
             "#ed7953"
            ],
            [
             0.7777777777777778,
             "#fb9f3a"
            ],
            [
             0.8888888888888888,
             "#fdca26"
            ],
            [
             1.0,
             "#f0f921"
            ]
           ],
           "diverging": [
            [
             0,
             "#8e0152"
            ],
            [
             0.1,
             "#c51b7d"
            ],
            [
             0.2,
             "#de77ae"
            ],
            [
             0.3,
             "#f1b6da"
            ],
            [
             0.4,
             "#fde0ef"
            ],
            [
             0.5,
             "#f7f7f7"
            ],
            [
             0.6,
             "#e6f5d0"
            ],
            [
             0.7,
             "#b8e186"
            ],
            [
             0.8,
             "#7fbc41"
            ],
            [
             0.9,
             "#4d9221"
            ],
            [
             1,
             "#276419"
            ]
           ]
          },
          "xaxis": {
           "gridcolor": "#283442",
           "linecolor": "#506784",
           "ticks": "",
           "title": {
            "standoff": 15
           },
           "zerolinecolor": "#283442",
           "automargin": true,
           "zerolinewidth": 2
          },
          "yaxis": {
           "gridcolor": "#283442",
           "linecolor": "#506784",
           "ticks": "",
           "title": {
            "standoff": 15
           },
           "zerolinecolor": "#283442",
           "automargin": true,
           "zerolinewidth": 2
          },
          "scene": {
           "xaxis": {
            "backgroundcolor": "rgb(17,17,17)",
            "gridcolor": "#506784",
            "linecolor": "#506784",
            "showbackground": true,
            "ticks": "",
            "zerolinecolor": "#C8D4E3",
            "gridwidth": 2
           },
           "yaxis": {
            "backgroundcolor": "rgb(17,17,17)",
            "gridcolor": "#506784",
            "linecolor": "#506784",
            "showbackground": true,
            "ticks": "",
            "zerolinecolor": "#C8D4E3",
            "gridwidth": 2
           },
           "zaxis": {
            "backgroundcolor": "rgb(17,17,17)",
            "gridcolor": "#506784",
            "linecolor": "#506784",
            "showbackground": true,
            "ticks": "",
            "zerolinecolor": "#C8D4E3",
            "gridwidth": 2
           }
          },
          "shapedefaults": {
           "line": {
            "color": "#f2f5fa"
           }
          },
          "annotationdefaults": {
           "arrowcolor": "#f2f5fa",
           "arrowhead": 0,
           "arrowwidth": 1
          },
          "geo": {
           "bgcolor": "rgb(17,17,17)",
           "landcolor": "rgb(17,17,17)",
           "subunitcolor": "#506784",
           "showland": true,
           "showlakes": true,
           "lakecolor": "rgb(17,17,17)"
          },
          "title": {
           "x": 0.05
          },
          "updatemenudefaults": {
           "bgcolor": "#506784",
           "borderwidth": 0
          },
          "sliderdefaults": {
           "bgcolor": "#C8D4E3",
           "borderwidth": 1,
           "bordercolor": "rgb(17,17,17)",
           "tickwidth": 0
          },
          "mapbox": {
           "style": "dark"
          }
         }
        },
        "xaxis": {
         "anchor": "y",
         "domain": [
          0.0,
          1.0
         ],
         "title": {
          "text": "epoch"
         }
        },
        "yaxis": {
         "anchor": "x",
         "domain": [
          0.0,
          1.0
         ],
         "title": {
          "text": "value"
         }
        },
        "legend": {
         "title": {
          "text": "variable"
         },
         "tracegroupgap": 0
        },
        "margin": {
         "t": 60
        }
       },
       "config": {
        "plotlyServerURL": "https://plot.ly"
       }
      },
      "text/html": [
       "<div>                            <div id=\"43800852-3af1-4970-83b1-9d3542aeb080\" class=\"plotly-graph-div\" style=\"height:525px; width:100%;\"></div>            <script type=\"text/javascript\">                require([\"plotly\"], function(Plotly) {                    window.PLOTLYENV=window.PLOTLYENV || {};                                    if (document.getElementById(\"43800852-3af1-4970-83b1-9d3542aeb080\")) {                    Plotly.newPlot(                        \"43800852-3af1-4970-83b1-9d3542aeb080\",                        [{\"hovertemplate\":\"variable=train_loss<br>epoch=%{x}<br>value=%{y}<extra></extra>\",\"legendgroup\":\"train_loss\",\"line\":{\"color\":\"#636efa\",\"dash\":\"solid\"},\"marker\":{\"symbol\":\"circle\"},\"mode\":\"lines\",\"name\":\"train_loss\",\"orientation\":\"v\",\"showlegend\":true,\"x\":[0,1,2,3,4,5,6,7,8,9,10,11,12,13,14,15,16,17,18,19,20,21,22,23,24,25,26,27,28,29,30,31,32,33,34,35,36,37,38,39,40,41,42,43,44,45,46,47,48,49],\"xaxis\":\"x\",\"y\":[1.2320522991723792,1.2185739562955014,1.1962998745053313,1.1403608273628145,1.0550308137439017,0.9642170504775158,0.8798528660175412,0.79885568417782,0.7378340533306432,0.6845164538122886,0.6441602240814719,0.608289491991664,0.5766570133178733,0.5459392959641856,0.521735169513281,0.4948564592835515,0.4773170264481112,0.45645355259956316,0.44479378841297573,0.42720615482607555,0.4206115458767081,0.4057691250602866,0.4007705997589023,0.38816805885628214,0.38429307556429576,0.37154602034147394,0.3708960599330969,0.35910849784349286,0.3568356768336407,0.3481879077938407,0.34486573276131655,0.3378838409864625,0.333599055445818,0.32922692865479825,0.3237879100840452,0.31987472458980803,0.3144038706411456,0.3110391264131596,0.30605168664438087,0.30235319604100874,0.29842930984531724,0.2939065851617691,0.2916771852259719,0.2857925356907207,0.2838358009277388,0.27949799138099646,0.2767264460061872,0.27164113155544495,0.2703398263818303,0.26561772946788126],\"yaxis\":\"y\",\"type\":\"scatter\"},{\"hovertemplate\":\"variable=test_loss<br>epoch=%{x}<br>value=%{y}<extra></extra>\",\"legendgroup\":\"test_loss\",\"line\":{\"color\":\"#EF553B\",\"dash\":\"solid\"},\"marker\":{\"symbol\":\"circle\"},\"mode\":\"lines\",\"name\":\"test_loss\",\"orientation\":\"v\",\"showlegend\":true,\"x\":[0,1,2,3,4,5,6,7,8,9,10,11,12,13,14,15,16,17,18,19,20,21,22,23,24,25,26,27,28,29,30,31,32,33,34,35,36,37,38,39,40,41,42,43,44,45,46,47,48,49],\"xaxis\":\"x\",\"y\":[1.220435619354248,1.2040690183639526,1.168868899345398,1.0834407806396484,0.9886534214019775,0.9036306142807007,0.8294695615768433,0.7708504796028137,0.7240366339683533,0.688680112361908,0.6581035256385803,0.6315634250640869,0.6076505780220032,0.5882372856140137,0.5697987079620361,0.5583738684654236,0.546986997127533,0.5420116782188416,0.5357071757316589,0.535936713218689,0.5321930050849915,0.5350762009620667,0.5332998037338257,0.5375815033912659,0.5368836522102356,0.5445019006729126,0.5436826348304749,0.5509442687034607,0.5532454252243042,0.5606906414031982,0.5646746754646301,0.5718950629234314,0.5783327221870422,0.5844877362251282,0.5916908979415894,0.5986403822898865,0.6078072190284729,0.6143442392349243,0.6241377592086792,0.6323075890541077,0.6416770219802856,0.6516414880752563,0.658930242061615,0.6719071269035339,0.6798946261405945,0.6910818219184875,0.7007250189781189,0.7146449089050293,0.7221712470054626,0.7357966899871826],\"yaxis\":\"y\",\"type\":\"scatter\"}],                        {\"template\":{\"data\":{\"histogram2dcontour\":[{\"type\":\"histogram2dcontour\",\"colorbar\":{\"outlinewidth\":0,\"ticks\":\"\"},\"colorscale\":[[0.0,\"#0d0887\"],[0.1111111111111111,\"#46039f\"],[0.2222222222222222,\"#7201a8\"],[0.3333333333333333,\"#9c179e\"],[0.4444444444444444,\"#bd3786\"],[0.5555555555555556,\"#d8576b\"],[0.6666666666666666,\"#ed7953\"],[0.7777777777777778,\"#fb9f3a\"],[0.8888888888888888,\"#fdca26\"],[1.0,\"#f0f921\"]]}],\"choropleth\":[{\"type\":\"choropleth\",\"colorbar\":{\"outlinewidth\":0,\"ticks\":\"\"}}],\"histogram2d\":[{\"type\":\"histogram2d\",\"colorbar\":{\"outlinewidth\":0,\"ticks\":\"\"},\"colorscale\":[[0.0,\"#0d0887\"],[0.1111111111111111,\"#46039f\"],[0.2222222222222222,\"#7201a8\"],[0.3333333333333333,\"#9c179e\"],[0.4444444444444444,\"#bd3786\"],[0.5555555555555556,\"#d8576b\"],[0.6666666666666666,\"#ed7953\"],[0.7777777777777778,\"#fb9f3a\"],[0.8888888888888888,\"#fdca26\"],[1.0,\"#f0f921\"]]}],\"heatmap\":[{\"type\":\"heatmap\",\"colorbar\":{\"outlinewidth\":0,\"ticks\":\"\"},\"colorscale\":[[0.0,\"#0d0887\"],[0.1111111111111111,\"#46039f\"],[0.2222222222222222,\"#7201a8\"],[0.3333333333333333,\"#9c179e\"],[0.4444444444444444,\"#bd3786\"],[0.5555555555555556,\"#d8576b\"],[0.6666666666666666,\"#ed7953\"],[0.7777777777777778,\"#fb9f3a\"],[0.8888888888888888,\"#fdca26\"],[1.0,\"#f0f921\"]]}],\"heatmapgl\":[{\"type\":\"heatmapgl\",\"colorbar\":{\"outlinewidth\":0,\"ticks\":\"\"},\"colorscale\":[[0.0,\"#0d0887\"],[0.1111111111111111,\"#46039f\"],[0.2222222222222222,\"#7201a8\"],[0.3333333333333333,\"#9c179e\"],[0.4444444444444444,\"#bd3786\"],[0.5555555555555556,\"#d8576b\"],[0.6666666666666666,\"#ed7953\"],[0.7777777777777778,\"#fb9f3a\"],[0.8888888888888888,\"#fdca26\"],[1.0,\"#f0f921\"]]}],\"contourcarpet\":[{\"type\":\"contourcarpet\",\"colorbar\":{\"outlinewidth\":0,\"ticks\":\"\"}}],\"contour\":[{\"type\":\"contour\",\"colorbar\":{\"outlinewidth\":0,\"ticks\":\"\"},\"colorscale\":[[0.0,\"#0d0887\"],[0.1111111111111111,\"#46039f\"],[0.2222222222222222,\"#7201a8\"],[0.3333333333333333,\"#9c179e\"],[0.4444444444444444,\"#bd3786\"],[0.5555555555555556,\"#d8576b\"],[0.6666666666666666,\"#ed7953\"],[0.7777777777777778,\"#fb9f3a\"],[0.8888888888888888,\"#fdca26\"],[1.0,\"#f0f921\"]]}],\"surface\":[{\"type\":\"surface\",\"colorbar\":{\"outlinewidth\":0,\"ticks\":\"\"},\"colorscale\":[[0.0,\"#0d0887\"],[0.1111111111111111,\"#46039f\"],[0.2222222222222222,\"#7201a8\"],[0.3333333333333333,\"#9c179e\"],[0.4444444444444444,\"#bd3786\"],[0.5555555555555556,\"#d8576b\"],[0.6666666666666666,\"#ed7953\"],[0.7777777777777778,\"#fb9f3a\"],[0.8888888888888888,\"#fdca26\"],[1.0,\"#f0f921\"]]}],\"mesh3d\":[{\"type\":\"mesh3d\",\"colorbar\":{\"outlinewidth\":0,\"ticks\":\"\"}}],\"scatter\":[{\"marker\":{\"line\":{\"color\":\"#283442\"}},\"type\":\"scatter\"}],\"parcoords\":[{\"type\":\"parcoords\",\"line\":{\"colorbar\":{\"outlinewidth\":0,\"ticks\":\"\"}}}],\"scatterpolargl\":[{\"type\":\"scatterpolargl\",\"marker\":{\"colorbar\":{\"outlinewidth\":0,\"ticks\":\"\"}}}],\"bar\":[{\"error_x\":{\"color\":\"#f2f5fa\"},\"error_y\":{\"color\":\"#f2f5fa\"},\"marker\":{\"line\":{\"color\":\"rgb(17,17,17)\",\"width\":0.5},\"pattern\":{\"fillmode\":\"overlay\",\"size\":10,\"solidity\":0.2}},\"type\":\"bar\"}],\"scattergeo\":[{\"type\":\"scattergeo\",\"marker\":{\"colorbar\":{\"outlinewidth\":0,\"ticks\":\"\"}}}],\"scatterpolar\":[{\"type\":\"scatterpolar\",\"marker\":{\"colorbar\":{\"outlinewidth\":0,\"ticks\":\"\"}}}],\"histogram\":[{\"marker\":{\"pattern\":{\"fillmode\":\"overlay\",\"size\":10,\"solidity\":0.2}},\"type\":\"histogram\"}],\"scattergl\":[{\"marker\":{\"line\":{\"color\":\"#283442\"}},\"type\":\"scattergl\"}],\"scatter3d\":[{\"type\":\"scatter3d\",\"line\":{\"colorbar\":{\"outlinewidth\":0,\"ticks\":\"\"}},\"marker\":{\"colorbar\":{\"outlinewidth\":0,\"ticks\":\"\"}}}],\"scattermapbox\":[{\"type\":\"scattermapbox\",\"marker\":{\"colorbar\":{\"outlinewidth\":0,\"ticks\":\"\"}}}],\"scatterternary\":[{\"type\":\"scatterternary\",\"marker\":{\"colorbar\":{\"outlinewidth\":0,\"ticks\":\"\"}}}],\"scattercarpet\":[{\"type\":\"scattercarpet\",\"marker\":{\"colorbar\":{\"outlinewidth\":0,\"ticks\":\"\"}}}],\"carpet\":[{\"aaxis\":{\"endlinecolor\":\"#A2B1C6\",\"gridcolor\":\"#506784\",\"linecolor\":\"#506784\",\"minorgridcolor\":\"#506784\",\"startlinecolor\":\"#A2B1C6\"},\"baxis\":{\"endlinecolor\":\"#A2B1C6\",\"gridcolor\":\"#506784\",\"linecolor\":\"#506784\",\"minorgridcolor\":\"#506784\",\"startlinecolor\":\"#A2B1C6\"},\"type\":\"carpet\"}],\"table\":[{\"cells\":{\"fill\":{\"color\":\"#506784\"},\"line\":{\"color\":\"rgb(17,17,17)\"}},\"header\":{\"fill\":{\"color\":\"#2a3f5f\"},\"line\":{\"color\":\"rgb(17,17,17)\"}},\"type\":\"table\"}],\"barpolar\":[{\"marker\":{\"line\":{\"color\":\"rgb(17,17,17)\",\"width\":0.5},\"pattern\":{\"fillmode\":\"overlay\",\"size\":10,\"solidity\":0.2}},\"type\":\"barpolar\"}],\"pie\":[{\"automargin\":true,\"type\":\"pie\"}]},\"layout\":{\"autotypenumbers\":\"strict\",\"colorway\":[\"#636efa\",\"#EF553B\",\"#00cc96\",\"#ab63fa\",\"#FFA15A\",\"#19d3f3\",\"#FF6692\",\"#B6E880\",\"#FF97FF\",\"#FECB52\"],\"font\":{\"color\":\"#f2f5fa\"},\"hovermode\":\"closest\",\"hoverlabel\":{\"align\":\"left\"},\"paper_bgcolor\":\"rgb(17,17,17)\",\"plot_bgcolor\":\"rgb(17,17,17)\",\"polar\":{\"bgcolor\":\"rgb(17,17,17)\",\"angularaxis\":{\"gridcolor\":\"#506784\",\"linecolor\":\"#506784\",\"ticks\":\"\"},\"radialaxis\":{\"gridcolor\":\"#506784\",\"linecolor\":\"#506784\",\"ticks\":\"\"}},\"ternary\":{\"bgcolor\":\"rgb(17,17,17)\",\"aaxis\":{\"gridcolor\":\"#506784\",\"linecolor\":\"#506784\",\"ticks\":\"\"},\"baxis\":{\"gridcolor\":\"#506784\",\"linecolor\":\"#506784\",\"ticks\":\"\"},\"caxis\":{\"gridcolor\":\"#506784\",\"linecolor\":\"#506784\",\"ticks\":\"\"}},\"coloraxis\":{\"colorbar\":{\"outlinewidth\":0,\"ticks\":\"\"}},\"colorscale\":{\"sequential\":[[0.0,\"#0d0887\"],[0.1111111111111111,\"#46039f\"],[0.2222222222222222,\"#7201a8\"],[0.3333333333333333,\"#9c179e\"],[0.4444444444444444,\"#bd3786\"],[0.5555555555555556,\"#d8576b\"],[0.6666666666666666,\"#ed7953\"],[0.7777777777777778,\"#fb9f3a\"],[0.8888888888888888,\"#fdca26\"],[1.0,\"#f0f921\"]],\"sequentialminus\":[[0.0,\"#0d0887\"],[0.1111111111111111,\"#46039f\"],[0.2222222222222222,\"#7201a8\"],[0.3333333333333333,\"#9c179e\"],[0.4444444444444444,\"#bd3786\"],[0.5555555555555556,\"#d8576b\"],[0.6666666666666666,\"#ed7953\"],[0.7777777777777778,\"#fb9f3a\"],[0.8888888888888888,\"#fdca26\"],[1.0,\"#f0f921\"]],\"diverging\":[[0,\"#8e0152\"],[0.1,\"#c51b7d\"],[0.2,\"#de77ae\"],[0.3,\"#f1b6da\"],[0.4,\"#fde0ef\"],[0.5,\"#f7f7f7\"],[0.6,\"#e6f5d0\"],[0.7,\"#b8e186\"],[0.8,\"#7fbc41\"],[0.9,\"#4d9221\"],[1,\"#276419\"]]},\"xaxis\":{\"gridcolor\":\"#283442\",\"linecolor\":\"#506784\",\"ticks\":\"\",\"title\":{\"standoff\":15},\"zerolinecolor\":\"#283442\",\"automargin\":true,\"zerolinewidth\":2},\"yaxis\":{\"gridcolor\":\"#283442\",\"linecolor\":\"#506784\",\"ticks\":\"\",\"title\":{\"standoff\":15},\"zerolinecolor\":\"#283442\",\"automargin\":true,\"zerolinewidth\":2},\"scene\":{\"xaxis\":{\"backgroundcolor\":\"rgb(17,17,17)\",\"gridcolor\":\"#506784\",\"linecolor\":\"#506784\",\"showbackground\":true,\"ticks\":\"\",\"zerolinecolor\":\"#C8D4E3\",\"gridwidth\":2},\"yaxis\":{\"backgroundcolor\":\"rgb(17,17,17)\",\"gridcolor\":\"#506784\",\"linecolor\":\"#506784\",\"showbackground\":true,\"ticks\":\"\",\"zerolinecolor\":\"#C8D4E3\",\"gridwidth\":2},\"zaxis\":{\"backgroundcolor\":\"rgb(17,17,17)\",\"gridcolor\":\"#506784\",\"linecolor\":\"#506784\",\"showbackground\":true,\"ticks\":\"\",\"zerolinecolor\":\"#C8D4E3\",\"gridwidth\":2}},\"shapedefaults\":{\"line\":{\"color\":\"#f2f5fa\"}},\"annotationdefaults\":{\"arrowcolor\":\"#f2f5fa\",\"arrowhead\":0,\"arrowwidth\":1},\"geo\":{\"bgcolor\":\"rgb(17,17,17)\",\"landcolor\":\"rgb(17,17,17)\",\"subunitcolor\":\"#506784\",\"showland\":true,\"showlakes\":true,\"lakecolor\":\"rgb(17,17,17)\"},\"title\":{\"x\":0.05},\"updatemenudefaults\":{\"bgcolor\":\"#506784\",\"borderwidth\":0},\"sliderdefaults\":{\"bgcolor\":\"#C8D4E3\",\"borderwidth\":1,\"bordercolor\":\"rgb(17,17,17)\",\"tickwidth\":0},\"mapbox\":{\"style\":\"dark\"}}},\"xaxis\":{\"anchor\":\"y\",\"domain\":[0.0,1.0],\"title\":{\"text\":\"epoch\"}},\"yaxis\":{\"anchor\":\"x\",\"domain\":[0.0,1.0],\"title\":{\"text\":\"value\"}},\"legend\":{\"title\":{\"text\":\"variable\"},\"tracegroupgap\":0},\"margin\":{\"t\":60}},                        {\"responsive\": true}                    ).then(function(){\n",
       "                            \n",
       "var gd = document.getElementById('43800852-3af1-4970-83b1-9d3542aeb080');\n",
       "var x = new MutationObserver(function (mutations, observer) {{\n",
       "        var display = window.getComputedStyle(gd).display;\n",
       "        if (!display || display === 'none') {{\n",
       "            console.log([gd, 'removed!']);\n",
       "            Plotly.purge(gd);\n",
       "            observer.disconnect();\n",
       "        }}\n",
       "}});\n",
       "\n",
       "// Listen for the removal of the full notebook cells\n",
       "var notebookContainer = gd.closest('#notebook-container');\n",
       "if (notebookContainer) {{\n",
       "    x.observe(notebookContainer, {childList: true});\n",
       "}}\n",
       "\n",
       "// Listen for the clearing of the current output cell\n",
       "var outputEl = gd.closest('.output');\n",
       "if (outputEl) {{\n",
       "    x.observe(outputEl, {childList: true});\n",
       "}}\n",
       "\n",
       "                        })                };                });            </script>        </div>"
      ]
     },
     "metadata": {},
     "output_type": "display_data"
    }
   ],
   "execution_count": 395
  },
  {
   "metadata": {
    "ExecuteTime": {
     "end_time": "2024-05-29T16:02:19.587248Z",
     "start_time": "2024-05-29T16:02:19.468158Z"
    }
   },
   "cell_type": "code",
   "source": "px.line(pd.DataFrame(record_data[1]),x='epoch',y=['accuracy','precision','recall','f1'])",
   "outputs": [
    {
     "data": {
      "application/vnd.plotly.v1+json": {
       "data": [
        {
         "hovertemplate": "variable=accuracy<br>epoch=%{x}<br>value=%{y}<extra></extra>",
         "legendgroup": "accuracy",
         "line": {
          "color": "#636efa",
          "dash": "solid"
         },
         "marker": {
          "symbol": "circle"
         },
         "mode": "lines",
         "name": "accuracy",
         "orientation": "v",
         "showlegend": true,
         "x": [
          0,
          1,
          2,
          3,
          4,
          5,
          6,
          7,
          8,
          9,
          10,
          11,
          12,
          13,
          14,
          15,
          16,
          17,
          18,
          19,
          20,
          21,
          22,
          23,
          24,
          25,
          26,
          27,
          28,
          29,
          30,
          31,
          32,
          33,
          34,
          35,
          36,
          37,
          38,
          39,
          40,
          41,
          42,
          43,
          44,
          45,
          46,
          47,
          48,
          49
         ],
         "xaxis": "x",
         "y": [
          0.10883363654740247,
          0.10883363654740247,
          0.10883363654740247,
          0.6729330907620781,
          0.8764503739640186,
          0.8920962199312715,
          0.8914089347079038,
          0.8899130786335152,
          0.8864766525166767,
          0.8852637962401455,
          0.8833636547402466,
          0.8818677986658581,
          0.8794016575702446,
          0.8784718010915706,
          0.8772185162724884,
          0.8779058014958561,
          0.8762886597938144,
          0.8771780877299373,
          0.8756013745704467,
          0.8776632302405498,
          0.8767333737618759,
          0.8783100869213665,
          0.8770568021022842,
          0.8779866585809581,
          0.8776228016979988,
          0.8795229431978977,
          0.8783100869213665,
          0.8801293713361633,
          0.8792399434000404,
          0.8806549423893268,
          0.880857085102082,
          0.8812209419850414,
          0.8815443703254497,
          0.881827370123307,
          0.8820699413786133,
          0.8821103699211643,
          0.8826763695168789,
          0.8831615120274914,
          0.8835253689104507,
          0.883808368708308,
          0.8839296543359612,
          0.8843339397614716,
          0.8842530826763695,
          0.8848595108146351,
          0.8851020820699413,
          0.8853850818677986,
          0.8851425106124924,
          0.8859915100060642,
          0.885748938750758,
          0.8864362239741257
         ],
         "yaxis": "y",
         "type": "scatter"
        },
        {
         "hovertemplate": "variable=precision<br>epoch=%{x}<br>value=%{y}<extra></extra>",
         "legendgroup": "precision",
         "line": {
          "color": "#EF553B",
          "dash": "solid"
         },
         "marker": {
          "symbol": "circle"
         },
         "mode": "lines",
         "name": "precision",
         "orientation": "v",
         "showlegend": true,
         "x": [
          0,
          1,
          2,
          3,
          4,
          5,
          6,
          7,
          8,
          9,
          10,
          11,
          12,
          13,
          14,
          15,
          16,
          17,
          18,
          19,
          20,
          21,
          22,
          23,
          24,
          25,
          26,
          27,
          28,
          29,
          30,
          31,
          32,
          33,
          34,
          35,
          36,
          37,
          38,
          39,
          40,
          41,
          42,
          43,
          44,
          45,
          46,
          47,
          48,
          49
         ],
         "xaxis": "x",
         "y": [
          0.10883363654300247,
          0.10883363654300247,
          0.10883363654300247,
          0.24799253032231627,
          0.45893501794699115,
          0.5033401102226721,
          0.5008250823705102,
          0.49598341526406237,
          0.48600386088658204,
          0.4829039811515447,
          0.4781822291480483,
          0.47472527462093944,
          0.46915412328404615,
          0.4671410631085933,
          0.4647311387313982,
          0.46640721006423447,
          0.46294804662445665,
          0.46485168621193584,
          0.4613065325705916,
          0.4658626327747623,
          0.46382978714005474,
          0.46728395052113497,
          0.46442405698992373,
          0.4661685345649297,
          0.46549948497106086,
          0.4697097180332962,
          0.4669850497369217,
          0.471111111011405,
          0.4689408295496018,
          0.47232865038903177,
          0.47285501373794864,
          0.4736842104249713,
          0.4743755382268786,
          0.4750593823202204,
          0.47559123443792767,
          0.47560975599398736,
          0.476953467849659,
          0.4781842220189105,
          0.47901399056650806,
          0.4797056198751771,
          0.47993723369649466,
          0.4809470122929093,
          0.48071283544310556,
          0.48224852060030754,
          0.48287671221852124,
          0.4835820894411981,
          0.4828774993144386,
          0.4851508119524012,
          0.48449074062859004,
          0.48637951094612814
         ],
         "yaxis": "y",
         "type": "scatter"
        },
        {
         "hovertemplate": "variable=recall<br>epoch=%{x}<br>value=%{y}<extra></extra>",
         "legendgroup": "recall",
         "line": {
          "color": "#00cc96",
          "dash": "solid"
         },
         "marker": {
          "symbol": "circle"
         },
         "mode": "lines",
         "name": "recall",
         "orientation": "v",
         "showlegend": true,
         "x": [
          0,
          1,
          2,
          3,
          4,
          5,
          6,
          7,
          8,
          9,
          10,
          11,
          12,
          13,
          14,
          15,
          16,
          17,
          18,
          19,
          20,
          21,
          22,
          23,
          24,
          25,
          26,
          27,
          28,
          29,
          30,
          31,
          32,
          33,
          34,
          35,
          36,
          37,
          38,
          39,
          40,
          41,
          42,
          43,
          44,
          45,
          46,
          47,
          48,
          49
         ],
         "xaxis": "x",
         "y": [
          0.999999999628529,
          0.999999999628529,
          0.999999999628529,
          0.9866270427241356,
          0.7555720650982274,
          0.6437592865364936,
          0.676448736747233,
          0.7109955420835826,
          0.7481426445957866,
          0.7659732538016445,
          0.7856612181331125,
          0.8023774142636043,
          0.8220653785950723,
          0.8291233280723911,
          0.8443536401023947,
          0.8458395242028828,
          0.8540118867555677,
          0.8499257054792253,
          0.8525260026550795,
          0.8465824662531269,
          0.8502971765043473,
          0.8436106980521506,
          0.8462109952280049,
          0.8343239224240996,
          0.8395245167758082,
          0.8294947990975131,
          0.8354383354994658,
          0.8268945019216588,
          0.8272659729467808,
          0.8242942047458046,
          0.8250371467960487,
          0.8224368496201944,
          0.818350668343852,
          0.8172362552684859,
          0.8142644870675095,
          0.8112927188665332,
          0.8072065375901908,
          0.8060921245148247,
          0.8012630011882381,
          0.799034175037506,
          0.7953194647862856,
          0.7923476965853092,
          0.7916047545350652,
          0.7871471022336006,
          0.7856612181331125,
          0.7823179789070142,
          0.780460623781404,
          0.7767459135301835,
          0.7774888555804277,
          0.7760029714799395
         ],
         "yaxis": "y",
         "type": "scatter"
        },
        {
         "hovertemplate": "variable=f1<br>epoch=%{x}<br>value=%{y}<extra></extra>",
         "legendgroup": "f1",
         "line": {
          "color": "#ab63fa",
          "dash": "solid"
         },
         "marker": {
          "symbol": "circle"
         },
         "mode": "lines",
         "name": "f1",
         "orientation": "v",
         "showlegend": true,
         "x": [
          0,
          1,
          2,
          3,
          4,
          5,
          6,
          7,
          8,
          9,
          10,
          11,
          12,
          13,
          14,
          15,
          16,
          17,
          18,
          19,
          20,
          21,
          22,
          23,
          24,
          25,
          26,
          27,
          28,
          29,
          30,
          31,
          32,
          33,
          34,
          35,
          36,
          37,
          38,
          39,
          40,
          41,
          42,
          43,
          44,
          45,
          46,
          47,
          48,
          49
         ],
         "xaxis": "x",
         "y": [
          0.19630273613808344,
          0.19630273613808344,
          0.19630273613808344,
          0.3963584313289693,
          0.571027042301191,
          0.5649546825327751,
          0.5755368055094328,
          0.5843377846556363,
          0.589232992251338,
          0.5923580431847002,
          0.5945181520562319,
          0.5965198310070261,
          0.5973811001539453,
          0.5975899002765162,
          0.5994984209611638,
          0.6012670357032168,
          0.6004174076034952,
          0.6009977040141268,
          0.5986691672374318,
          0.6010016516209743,
          0.6002355467576402,
          0.6014296257932285,
          0.5997099542748181,
          0.5981353588189373,
          0.5989130164657476,
          0.5997846577108552,
          0.599093839270431,
          0.6002422231259065,
          0.5985749983369731,
          0.6005408086689855,
          0.6011634289251571,
          0.6011399107321223,
          0.6005993171347404,
          0.600846182439885,
          0.6004652239380844,
          0.5996700445643466,
          0.5996132194384578,
          0.6002761576026397,
          0.5995825752911944,
          0.5994978587728418,
          0.5986294758912382,
          0.5985683525244966,
          0.5981749682826274,
          0.5980802512291559,
          0.598133012480041,
          0.5977006771009467,
          0.5966202857731976,
          0.5972574528348,
          0.596976138305453,
          0.5979671803623425
         ],
         "yaxis": "y",
         "type": "scatter"
        }
       ],
       "layout": {
        "template": {
         "data": {
          "histogram2dcontour": [
           {
            "type": "histogram2dcontour",
            "colorbar": {
             "outlinewidth": 0,
             "ticks": ""
            },
            "colorscale": [
             [
              0.0,
              "#0d0887"
             ],
             [
              0.1111111111111111,
              "#46039f"
             ],
             [
              0.2222222222222222,
              "#7201a8"
             ],
             [
              0.3333333333333333,
              "#9c179e"
             ],
             [
              0.4444444444444444,
              "#bd3786"
             ],
             [
              0.5555555555555556,
              "#d8576b"
             ],
             [
              0.6666666666666666,
              "#ed7953"
             ],
             [
              0.7777777777777778,
              "#fb9f3a"
             ],
             [
              0.8888888888888888,
              "#fdca26"
             ],
             [
              1.0,
              "#f0f921"
             ]
            ]
           }
          ],
          "choropleth": [
           {
            "type": "choropleth",
            "colorbar": {
             "outlinewidth": 0,
             "ticks": ""
            }
           }
          ],
          "histogram2d": [
           {
            "type": "histogram2d",
            "colorbar": {
             "outlinewidth": 0,
             "ticks": ""
            },
            "colorscale": [
             [
              0.0,
              "#0d0887"
             ],
             [
              0.1111111111111111,
              "#46039f"
             ],
             [
              0.2222222222222222,
              "#7201a8"
             ],
             [
              0.3333333333333333,
              "#9c179e"
             ],
             [
              0.4444444444444444,
              "#bd3786"
             ],
             [
              0.5555555555555556,
              "#d8576b"
             ],
             [
              0.6666666666666666,
              "#ed7953"
             ],
             [
              0.7777777777777778,
              "#fb9f3a"
             ],
             [
              0.8888888888888888,
              "#fdca26"
             ],
             [
              1.0,
              "#f0f921"
             ]
            ]
           }
          ],
          "heatmap": [
           {
            "type": "heatmap",
            "colorbar": {
             "outlinewidth": 0,
             "ticks": ""
            },
            "colorscale": [
             [
              0.0,
              "#0d0887"
             ],
             [
              0.1111111111111111,
              "#46039f"
             ],
             [
              0.2222222222222222,
              "#7201a8"
             ],
             [
              0.3333333333333333,
              "#9c179e"
             ],
             [
              0.4444444444444444,
              "#bd3786"
             ],
             [
              0.5555555555555556,
              "#d8576b"
             ],
             [
              0.6666666666666666,
              "#ed7953"
             ],
             [
              0.7777777777777778,
              "#fb9f3a"
             ],
             [
              0.8888888888888888,
              "#fdca26"
             ],
             [
              1.0,
              "#f0f921"
             ]
            ]
           }
          ],
          "heatmapgl": [
           {
            "type": "heatmapgl",
            "colorbar": {
             "outlinewidth": 0,
             "ticks": ""
            },
            "colorscale": [
             [
              0.0,
              "#0d0887"
             ],
             [
              0.1111111111111111,
              "#46039f"
             ],
             [
              0.2222222222222222,
              "#7201a8"
             ],
             [
              0.3333333333333333,
              "#9c179e"
             ],
             [
              0.4444444444444444,
              "#bd3786"
             ],
             [
              0.5555555555555556,
              "#d8576b"
             ],
             [
              0.6666666666666666,
              "#ed7953"
             ],
             [
              0.7777777777777778,
              "#fb9f3a"
             ],
             [
              0.8888888888888888,
              "#fdca26"
             ],
             [
              1.0,
              "#f0f921"
             ]
            ]
           }
          ],
          "contourcarpet": [
           {
            "type": "contourcarpet",
            "colorbar": {
             "outlinewidth": 0,
             "ticks": ""
            }
           }
          ],
          "contour": [
           {
            "type": "contour",
            "colorbar": {
             "outlinewidth": 0,
             "ticks": ""
            },
            "colorscale": [
             [
              0.0,
              "#0d0887"
             ],
             [
              0.1111111111111111,
              "#46039f"
             ],
             [
              0.2222222222222222,
              "#7201a8"
             ],
             [
              0.3333333333333333,
              "#9c179e"
             ],
             [
              0.4444444444444444,
              "#bd3786"
             ],
             [
              0.5555555555555556,
              "#d8576b"
             ],
             [
              0.6666666666666666,
              "#ed7953"
             ],
             [
              0.7777777777777778,
              "#fb9f3a"
             ],
             [
              0.8888888888888888,
              "#fdca26"
             ],
             [
              1.0,
              "#f0f921"
             ]
            ]
           }
          ],
          "surface": [
           {
            "type": "surface",
            "colorbar": {
             "outlinewidth": 0,
             "ticks": ""
            },
            "colorscale": [
             [
              0.0,
              "#0d0887"
             ],
             [
              0.1111111111111111,
              "#46039f"
             ],
             [
              0.2222222222222222,
              "#7201a8"
             ],
             [
              0.3333333333333333,
              "#9c179e"
             ],
             [
              0.4444444444444444,
              "#bd3786"
             ],
             [
              0.5555555555555556,
              "#d8576b"
             ],
             [
              0.6666666666666666,
              "#ed7953"
             ],
             [
              0.7777777777777778,
              "#fb9f3a"
             ],
             [
              0.8888888888888888,
              "#fdca26"
             ],
             [
              1.0,
              "#f0f921"
             ]
            ]
           }
          ],
          "mesh3d": [
           {
            "type": "mesh3d",
            "colorbar": {
             "outlinewidth": 0,
             "ticks": ""
            }
           }
          ],
          "scatter": [
           {
            "marker": {
             "line": {
              "color": "#283442"
             }
            },
            "type": "scatter"
           }
          ],
          "parcoords": [
           {
            "type": "parcoords",
            "line": {
             "colorbar": {
              "outlinewidth": 0,
              "ticks": ""
             }
            }
           }
          ],
          "scatterpolargl": [
           {
            "type": "scatterpolargl",
            "marker": {
             "colorbar": {
              "outlinewidth": 0,
              "ticks": ""
             }
            }
           }
          ],
          "bar": [
           {
            "error_x": {
             "color": "#f2f5fa"
            },
            "error_y": {
             "color": "#f2f5fa"
            },
            "marker": {
             "line": {
              "color": "rgb(17,17,17)",
              "width": 0.5
             },
             "pattern": {
              "fillmode": "overlay",
              "size": 10,
              "solidity": 0.2
             }
            },
            "type": "bar"
           }
          ],
          "scattergeo": [
           {
            "type": "scattergeo",
            "marker": {
             "colorbar": {
              "outlinewidth": 0,
              "ticks": ""
             }
            }
           }
          ],
          "scatterpolar": [
           {
            "type": "scatterpolar",
            "marker": {
             "colorbar": {
              "outlinewidth": 0,
              "ticks": ""
             }
            }
           }
          ],
          "histogram": [
           {
            "marker": {
             "pattern": {
              "fillmode": "overlay",
              "size": 10,
              "solidity": 0.2
             }
            },
            "type": "histogram"
           }
          ],
          "scattergl": [
           {
            "marker": {
             "line": {
              "color": "#283442"
             }
            },
            "type": "scattergl"
           }
          ],
          "scatter3d": [
           {
            "type": "scatter3d",
            "line": {
             "colorbar": {
              "outlinewidth": 0,
              "ticks": ""
             }
            },
            "marker": {
             "colorbar": {
              "outlinewidth": 0,
              "ticks": ""
             }
            }
           }
          ],
          "scattermapbox": [
           {
            "type": "scattermapbox",
            "marker": {
             "colorbar": {
              "outlinewidth": 0,
              "ticks": ""
             }
            }
           }
          ],
          "scatterternary": [
           {
            "type": "scatterternary",
            "marker": {
             "colorbar": {
              "outlinewidth": 0,
              "ticks": ""
             }
            }
           }
          ],
          "scattercarpet": [
           {
            "type": "scattercarpet",
            "marker": {
             "colorbar": {
              "outlinewidth": 0,
              "ticks": ""
             }
            }
           }
          ],
          "carpet": [
           {
            "aaxis": {
             "endlinecolor": "#A2B1C6",
             "gridcolor": "#506784",
             "linecolor": "#506784",
             "minorgridcolor": "#506784",
             "startlinecolor": "#A2B1C6"
            },
            "baxis": {
             "endlinecolor": "#A2B1C6",
             "gridcolor": "#506784",
             "linecolor": "#506784",
             "minorgridcolor": "#506784",
             "startlinecolor": "#A2B1C6"
            },
            "type": "carpet"
           }
          ],
          "table": [
           {
            "cells": {
             "fill": {
              "color": "#506784"
             },
             "line": {
              "color": "rgb(17,17,17)"
             }
            },
            "header": {
             "fill": {
              "color": "#2a3f5f"
             },
             "line": {
              "color": "rgb(17,17,17)"
             }
            },
            "type": "table"
           }
          ],
          "barpolar": [
           {
            "marker": {
             "line": {
              "color": "rgb(17,17,17)",
              "width": 0.5
             },
             "pattern": {
              "fillmode": "overlay",
              "size": 10,
              "solidity": 0.2
             }
            },
            "type": "barpolar"
           }
          ],
          "pie": [
           {
            "automargin": true,
            "type": "pie"
           }
          ]
         },
         "layout": {
          "autotypenumbers": "strict",
          "colorway": [
           "#636efa",
           "#EF553B",
           "#00cc96",
           "#ab63fa",
           "#FFA15A",
           "#19d3f3",
           "#FF6692",
           "#B6E880",
           "#FF97FF",
           "#FECB52"
          ],
          "font": {
           "color": "#f2f5fa"
          },
          "hovermode": "closest",
          "hoverlabel": {
           "align": "left"
          },
          "paper_bgcolor": "rgb(17,17,17)",
          "plot_bgcolor": "rgb(17,17,17)",
          "polar": {
           "bgcolor": "rgb(17,17,17)",
           "angularaxis": {
            "gridcolor": "#506784",
            "linecolor": "#506784",
            "ticks": ""
           },
           "radialaxis": {
            "gridcolor": "#506784",
            "linecolor": "#506784",
            "ticks": ""
           }
          },
          "ternary": {
           "bgcolor": "rgb(17,17,17)",
           "aaxis": {
            "gridcolor": "#506784",
            "linecolor": "#506784",
            "ticks": ""
           },
           "baxis": {
            "gridcolor": "#506784",
            "linecolor": "#506784",
            "ticks": ""
           },
           "caxis": {
            "gridcolor": "#506784",
            "linecolor": "#506784",
            "ticks": ""
           }
          },
          "coloraxis": {
           "colorbar": {
            "outlinewidth": 0,
            "ticks": ""
           }
          },
          "colorscale": {
           "sequential": [
            [
             0.0,
             "#0d0887"
            ],
            [
             0.1111111111111111,
             "#46039f"
            ],
            [
             0.2222222222222222,
             "#7201a8"
            ],
            [
             0.3333333333333333,
             "#9c179e"
            ],
            [
             0.4444444444444444,
             "#bd3786"
            ],
            [
             0.5555555555555556,
             "#d8576b"
            ],
            [
             0.6666666666666666,
             "#ed7953"
            ],
            [
             0.7777777777777778,
             "#fb9f3a"
            ],
            [
             0.8888888888888888,
             "#fdca26"
            ],
            [
             1.0,
             "#f0f921"
            ]
           ],
           "sequentialminus": [
            [
             0.0,
             "#0d0887"
            ],
            [
             0.1111111111111111,
             "#46039f"
            ],
            [
             0.2222222222222222,
             "#7201a8"
            ],
            [
             0.3333333333333333,
             "#9c179e"
            ],
            [
             0.4444444444444444,
             "#bd3786"
            ],
            [
             0.5555555555555556,
             "#d8576b"
            ],
            [
             0.6666666666666666,
             "#ed7953"
            ],
            [
             0.7777777777777778,
             "#fb9f3a"
            ],
            [
             0.8888888888888888,
             "#fdca26"
            ],
            [
             1.0,
             "#f0f921"
            ]
           ],
           "diverging": [
            [
             0,
             "#8e0152"
            ],
            [
             0.1,
             "#c51b7d"
            ],
            [
             0.2,
             "#de77ae"
            ],
            [
             0.3,
             "#f1b6da"
            ],
            [
             0.4,
             "#fde0ef"
            ],
            [
             0.5,
             "#f7f7f7"
            ],
            [
             0.6,
             "#e6f5d0"
            ],
            [
             0.7,
             "#b8e186"
            ],
            [
             0.8,
             "#7fbc41"
            ],
            [
             0.9,
             "#4d9221"
            ],
            [
             1,
             "#276419"
            ]
           ]
          },
          "xaxis": {
           "gridcolor": "#283442",
           "linecolor": "#506784",
           "ticks": "",
           "title": {
            "standoff": 15
           },
           "zerolinecolor": "#283442",
           "automargin": true,
           "zerolinewidth": 2
          },
          "yaxis": {
           "gridcolor": "#283442",
           "linecolor": "#506784",
           "ticks": "",
           "title": {
            "standoff": 15
           },
           "zerolinecolor": "#283442",
           "automargin": true,
           "zerolinewidth": 2
          },
          "scene": {
           "xaxis": {
            "backgroundcolor": "rgb(17,17,17)",
            "gridcolor": "#506784",
            "linecolor": "#506784",
            "showbackground": true,
            "ticks": "",
            "zerolinecolor": "#C8D4E3",
            "gridwidth": 2
           },
           "yaxis": {
            "backgroundcolor": "rgb(17,17,17)",
            "gridcolor": "#506784",
            "linecolor": "#506784",
            "showbackground": true,
            "ticks": "",
            "zerolinecolor": "#C8D4E3",
            "gridwidth": 2
           },
           "zaxis": {
            "backgroundcolor": "rgb(17,17,17)",
            "gridcolor": "#506784",
            "linecolor": "#506784",
            "showbackground": true,
            "ticks": "",
            "zerolinecolor": "#C8D4E3",
            "gridwidth": 2
           }
          },
          "shapedefaults": {
           "line": {
            "color": "#f2f5fa"
           }
          },
          "annotationdefaults": {
           "arrowcolor": "#f2f5fa",
           "arrowhead": 0,
           "arrowwidth": 1
          },
          "geo": {
           "bgcolor": "rgb(17,17,17)",
           "landcolor": "rgb(17,17,17)",
           "subunitcolor": "#506784",
           "showland": true,
           "showlakes": true,
           "lakecolor": "rgb(17,17,17)"
          },
          "title": {
           "x": 0.05
          },
          "updatemenudefaults": {
           "bgcolor": "#506784",
           "borderwidth": 0
          },
          "sliderdefaults": {
           "bgcolor": "#C8D4E3",
           "borderwidth": 1,
           "bordercolor": "rgb(17,17,17)",
           "tickwidth": 0
          },
          "mapbox": {
           "style": "dark"
          }
         }
        },
        "xaxis": {
         "anchor": "y",
         "domain": [
          0.0,
          1.0
         ],
         "title": {
          "text": "epoch"
         }
        },
        "yaxis": {
         "anchor": "x",
         "domain": [
          0.0,
          1.0
         ],
         "title": {
          "text": "value"
         }
        },
        "legend": {
         "title": {
          "text": "variable"
         },
         "tracegroupgap": 0
        },
        "margin": {
         "t": 60
        }
       },
       "config": {
        "plotlyServerURL": "https://plot.ly"
       }
      },
      "text/html": [
       "<div>                            <div id=\"097da436-ab8f-466b-a957-22ec0d080635\" class=\"plotly-graph-div\" style=\"height:525px; width:100%;\"></div>            <script type=\"text/javascript\">                require([\"plotly\"], function(Plotly) {                    window.PLOTLYENV=window.PLOTLYENV || {};                                    if (document.getElementById(\"097da436-ab8f-466b-a957-22ec0d080635\")) {                    Plotly.newPlot(                        \"097da436-ab8f-466b-a957-22ec0d080635\",                        [{\"hovertemplate\":\"variable=accuracy<br>epoch=%{x}<br>value=%{y}<extra></extra>\",\"legendgroup\":\"accuracy\",\"line\":{\"color\":\"#636efa\",\"dash\":\"solid\"},\"marker\":{\"symbol\":\"circle\"},\"mode\":\"lines\",\"name\":\"accuracy\",\"orientation\":\"v\",\"showlegend\":true,\"x\":[0,1,2,3,4,5,6,7,8,9,10,11,12,13,14,15,16,17,18,19,20,21,22,23,24,25,26,27,28,29,30,31,32,33,34,35,36,37,38,39,40,41,42,43,44,45,46,47,48,49],\"xaxis\":\"x\",\"y\":[0.10883363654740247,0.10883363654740247,0.10883363654740247,0.6729330907620781,0.8764503739640186,0.8920962199312715,0.8914089347079038,0.8899130786335152,0.8864766525166767,0.8852637962401455,0.8833636547402466,0.8818677986658581,0.8794016575702446,0.8784718010915706,0.8772185162724884,0.8779058014958561,0.8762886597938144,0.8771780877299373,0.8756013745704467,0.8776632302405498,0.8767333737618759,0.8783100869213665,0.8770568021022842,0.8779866585809581,0.8776228016979988,0.8795229431978977,0.8783100869213665,0.8801293713361633,0.8792399434000404,0.8806549423893268,0.880857085102082,0.8812209419850414,0.8815443703254497,0.881827370123307,0.8820699413786133,0.8821103699211643,0.8826763695168789,0.8831615120274914,0.8835253689104507,0.883808368708308,0.8839296543359612,0.8843339397614716,0.8842530826763695,0.8848595108146351,0.8851020820699413,0.8853850818677986,0.8851425106124924,0.8859915100060642,0.885748938750758,0.8864362239741257],\"yaxis\":\"y\",\"type\":\"scatter\"},{\"hovertemplate\":\"variable=precision<br>epoch=%{x}<br>value=%{y}<extra></extra>\",\"legendgroup\":\"precision\",\"line\":{\"color\":\"#EF553B\",\"dash\":\"solid\"},\"marker\":{\"symbol\":\"circle\"},\"mode\":\"lines\",\"name\":\"precision\",\"orientation\":\"v\",\"showlegend\":true,\"x\":[0,1,2,3,4,5,6,7,8,9,10,11,12,13,14,15,16,17,18,19,20,21,22,23,24,25,26,27,28,29,30,31,32,33,34,35,36,37,38,39,40,41,42,43,44,45,46,47,48,49],\"xaxis\":\"x\",\"y\":[0.10883363654300247,0.10883363654300247,0.10883363654300247,0.24799253032231627,0.45893501794699115,0.5033401102226721,0.5008250823705102,0.49598341526406237,0.48600386088658204,0.4829039811515447,0.4781822291480483,0.47472527462093944,0.46915412328404615,0.4671410631085933,0.4647311387313982,0.46640721006423447,0.46294804662445665,0.46485168621193584,0.4613065325705916,0.4658626327747623,0.46382978714005474,0.46728395052113497,0.46442405698992373,0.4661685345649297,0.46549948497106086,0.4697097180332962,0.4669850497369217,0.471111111011405,0.4689408295496018,0.47232865038903177,0.47285501373794864,0.4736842104249713,0.4743755382268786,0.4750593823202204,0.47559123443792767,0.47560975599398736,0.476953467849659,0.4781842220189105,0.47901399056650806,0.4797056198751771,0.47993723369649466,0.4809470122929093,0.48071283544310556,0.48224852060030754,0.48287671221852124,0.4835820894411981,0.4828774993144386,0.4851508119524012,0.48449074062859004,0.48637951094612814],\"yaxis\":\"y\",\"type\":\"scatter\"},{\"hovertemplate\":\"variable=recall<br>epoch=%{x}<br>value=%{y}<extra></extra>\",\"legendgroup\":\"recall\",\"line\":{\"color\":\"#00cc96\",\"dash\":\"solid\"},\"marker\":{\"symbol\":\"circle\"},\"mode\":\"lines\",\"name\":\"recall\",\"orientation\":\"v\",\"showlegend\":true,\"x\":[0,1,2,3,4,5,6,7,8,9,10,11,12,13,14,15,16,17,18,19,20,21,22,23,24,25,26,27,28,29,30,31,32,33,34,35,36,37,38,39,40,41,42,43,44,45,46,47,48,49],\"xaxis\":\"x\",\"y\":[0.999999999628529,0.999999999628529,0.999999999628529,0.9866270427241356,0.7555720650982274,0.6437592865364936,0.676448736747233,0.7109955420835826,0.7481426445957866,0.7659732538016445,0.7856612181331125,0.8023774142636043,0.8220653785950723,0.8291233280723911,0.8443536401023947,0.8458395242028828,0.8540118867555677,0.8499257054792253,0.8525260026550795,0.8465824662531269,0.8502971765043473,0.8436106980521506,0.8462109952280049,0.8343239224240996,0.8395245167758082,0.8294947990975131,0.8354383354994658,0.8268945019216588,0.8272659729467808,0.8242942047458046,0.8250371467960487,0.8224368496201944,0.818350668343852,0.8172362552684859,0.8142644870675095,0.8112927188665332,0.8072065375901908,0.8060921245148247,0.8012630011882381,0.799034175037506,0.7953194647862856,0.7923476965853092,0.7916047545350652,0.7871471022336006,0.7856612181331125,0.7823179789070142,0.780460623781404,0.7767459135301835,0.7774888555804277,0.7760029714799395],\"yaxis\":\"y\",\"type\":\"scatter\"},{\"hovertemplate\":\"variable=f1<br>epoch=%{x}<br>value=%{y}<extra></extra>\",\"legendgroup\":\"f1\",\"line\":{\"color\":\"#ab63fa\",\"dash\":\"solid\"},\"marker\":{\"symbol\":\"circle\"},\"mode\":\"lines\",\"name\":\"f1\",\"orientation\":\"v\",\"showlegend\":true,\"x\":[0,1,2,3,4,5,6,7,8,9,10,11,12,13,14,15,16,17,18,19,20,21,22,23,24,25,26,27,28,29,30,31,32,33,34,35,36,37,38,39,40,41,42,43,44,45,46,47,48,49],\"xaxis\":\"x\",\"y\":[0.19630273613808344,0.19630273613808344,0.19630273613808344,0.3963584313289693,0.571027042301191,0.5649546825327751,0.5755368055094328,0.5843377846556363,0.589232992251338,0.5923580431847002,0.5945181520562319,0.5965198310070261,0.5973811001539453,0.5975899002765162,0.5994984209611638,0.6012670357032168,0.6004174076034952,0.6009977040141268,0.5986691672374318,0.6010016516209743,0.6002355467576402,0.6014296257932285,0.5997099542748181,0.5981353588189373,0.5989130164657476,0.5997846577108552,0.599093839270431,0.6002422231259065,0.5985749983369731,0.6005408086689855,0.6011634289251571,0.6011399107321223,0.6005993171347404,0.600846182439885,0.6004652239380844,0.5996700445643466,0.5996132194384578,0.6002761576026397,0.5995825752911944,0.5994978587728418,0.5986294758912382,0.5985683525244966,0.5981749682826274,0.5980802512291559,0.598133012480041,0.5977006771009467,0.5966202857731976,0.5972574528348,0.596976138305453,0.5979671803623425],\"yaxis\":\"y\",\"type\":\"scatter\"}],                        {\"template\":{\"data\":{\"histogram2dcontour\":[{\"type\":\"histogram2dcontour\",\"colorbar\":{\"outlinewidth\":0,\"ticks\":\"\"},\"colorscale\":[[0.0,\"#0d0887\"],[0.1111111111111111,\"#46039f\"],[0.2222222222222222,\"#7201a8\"],[0.3333333333333333,\"#9c179e\"],[0.4444444444444444,\"#bd3786\"],[0.5555555555555556,\"#d8576b\"],[0.6666666666666666,\"#ed7953\"],[0.7777777777777778,\"#fb9f3a\"],[0.8888888888888888,\"#fdca26\"],[1.0,\"#f0f921\"]]}],\"choropleth\":[{\"type\":\"choropleth\",\"colorbar\":{\"outlinewidth\":0,\"ticks\":\"\"}}],\"histogram2d\":[{\"type\":\"histogram2d\",\"colorbar\":{\"outlinewidth\":0,\"ticks\":\"\"},\"colorscale\":[[0.0,\"#0d0887\"],[0.1111111111111111,\"#46039f\"],[0.2222222222222222,\"#7201a8\"],[0.3333333333333333,\"#9c179e\"],[0.4444444444444444,\"#bd3786\"],[0.5555555555555556,\"#d8576b\"],[0.6666666666666666,\"#ed7953\"],[0.7777777777777778,\"#fb9f3a\"],[0.8888888888888888,\"#fdca26\"],[1.0,\"#f0f921\"]]}],\"heatmap\":[{\"type\":\"heatmap\",\"colorbar\":{\"outlinewidth\":0,\"ticks\":\"\"},\"colorscale\":[[0.0,\"#0d0887\"],[0.1111111111111111,\"#46039f\"],[0.2222222222222222,\"#7201a8\"],[0.3333333333333333,\"#9c179e\"],[0.4444444444444444,\"#bd3786\"],[0.5555555555555556,\"#d8576b\"],[0.6666666666666666,\"#ed7953\"],[0.7777777777777778,\"#fb9f3a\"],[0.8888888888888888,\"#fdca26\"],[1.0,\"#f0f921\"]]}],\"heatmapgl\":[{\"type\":\"heatmapgl\",\"colorbar\":{\"outlinewidth\":0,\"ticks\":\"\"},\"colorscale\":[[0.0,\"#0d0887\"],[0.1111111111111111,\"#46039f\"],[0.2222222222222222,\"#7201a8\"],[0.3333333333333333,\"#9c179e\"],[0.4444444444444444,\"#bd3786\"],[0.5555555555555556,\"#d8576b\"],[0.6666666666666666,\"#ed7953\"],[0.7777777777777778,\"#fb9f3a\"],[0.8888888888888888,\"#fdca26\"],[1.0,\"#f0f921\"]]}],\"contourcarpet\":[{\"type\":\"contourcarpet\",\"colorbar\":{\"outlinewidth\":0,\"ticks\":\"\"}}],\"contour\":[{\"type\":\"contour\",\"colorbar\":{\"outlinewidth\":0,\"ticks\":\"\"},\"colorscale\":[[0.0,\"#0d0887\"],[0.1111111111111111,\"#46039f\"],[0.2222222222222222,\"#7201a8\"],[0.3333333333333333,\"#9c179e\"],[0.4444444444444444,\"#bd3786\"],[0.5555555555555556,\"#d8576b\"],[0.6666666666666666,\"#ed7953\"],[0.7777777777777778,\"#fb9f3a\"],[0.8888888888888888,\"#fdca26\"],[1.0,\"#f0f921\"]]}],\"surface\":[{\"type\":\"surface\",\"colorbar\":{\"outlinewidth\":0,\"ticks\":\"\"},\"colorscale\":[[0.0,\"#0d0887\"],[0.1111111111111111,\"#46039f\"],[0.2222222222222222,\"#7201a8\"],[0.3333333333333333,\"#9c179e\"],[0.4444444444444444,\"#bd3786\"],[0.5555555555555556,\"#d8576b\"],[0.6666666666666666,\"#ed7953\"],[0.7777777777777778,\"#fb9f3a\"],[0.8888888888888888,\"#fdca26\"],[1.0,\"#f0f921\"]]}],\"mesh3d\":[{\"type\":\"mesh3d\",\"colorbar\":{\"outlinewidth\":0,\"ticks\":\"\"}}],\"scatter\":[{\"marker\":{\"line\":{\"color\":\"#283442\"}},\"type\":\"scatter\"}],\"parcoords\":[{\"type\":\"parcoords\",\"line\":{\"colorbar\":{\"outlinewidth\":0,\"ticks\":\"\"}}}],\"scatterpolargl\":[{\"type\":\"scatterpolargl\",\"marker\":{\"colorbar\":{\"outlinewidth\":0,\"ticks\":\"\"}}}],\"bar\":[{\"error_x\":{\"color\":\"#f2f5fa\"},\"error_y\":{\"color\":\"#f2f5fa\"},\"marker\":{\"line\":{\"color\":\"rgb(17,17,17)\",\"width\":0.5},\"pattern\":{\"fillmode\":\"overlay\",\"size\":10,\"solidity\":0.2}},\"type\":\"bar\"}],\"scattergeo\":[{\"type\":\"scattergeo\",\"marker\":{\"colorbar\":{\"outlinewidth\":0,\"ticks\":\"\"}}}],\"scatterpolar\":[{\"type\":\"scatterpolar\",\"marker\":{\"colorbar\":{\"outlinewidth\":0,\"ticks\":\"\"}}}],\"histogram\":[{\"marker\":{\"pattern\":{\"fillmode\":\"overlay\",\"size\":10,\"solidity\":0.2}},\"type\":\"histogram\"}],\"scattergl\":[{\"marker\":{\"line\":{\"color\":\"#283442\"}},\"type\":\"scattergl\"}],\"scatter3d\":[{\"type\":\"scatter3d\",\"line\":{\"colorbar\":{\"outlinewidth\":0,\"ticks\":\"\"}},\"marker\":{\"colorbar\":{\"outlinewidth\":0,\"ticks\":\"\"}}}],\"scattermapbox\":[{\"type\":\"scattermapbox\",\"marker\":{\"colorbar\":{\"outlinewidth\":0,\"ticks\":\"\"}}}],\"scatterternary\":[{\"type\":\"scatterternary\",\"marker\":{\"colorbar\":{\"outlinewidth\":0,\"ticks\":\"\"}}}],\"scattercarpet\":[{\"type\":\"scattercarpet\",\"marker\":{\"colorbar\":{\"outlinewidth\":0,\"ticks\":\"\"}}}],\"carpet\":[{\"aaxis\":{\"endlinecolor\":\"#A2B1C6\",\"gridcolor\":\"#506784\",\"linecolor\":\"#506784\",\"minorgridcolor\":\"#506784\",\"startlinecolor\":\"#A2B1C6\"},\"baxis\":{\"endlinecolor\":\"#A2B1C6\",\"gridcolor\":\"#506784\",\"linecolor\":\"#506784\",\"minorgridcolor\":\"#506784\",\"startlinecolor\":\"#A2B1C6\"},\"type\":\"carpet\"}],\"table\":[{\"cells\":{\"fill\":{\"color\":\"#506784\"},\"line\":{\"color\":\"rgb(17,17,17)\"}},\"header\":{\"fill\":{\"color\":\"#2a3f5f\"},\"line\":{\"color\":\"rgb(17,17,17)\"}},\"type\":\"table\"}],\"barpolar\":[{\"marker\":{\"line\":{\"color\":\"rgb(17,17,17)\",\"width\":0.5},\"pattern\":{\"fillmode\":\"overlay\",\"size\":10,\"solidity\":0.2}},\"type\":\"barpolar\"}],\"pie\":[{\"automargin\":true,\"type\":\"pie\"}]},\"layout\":{\"autotypenumbers\":\"strict\",\"colorway\":[\"#636efa\",\"#EF553B\",\"#00cc96\",\"#ab63fa\",\"#FFA15A\",\"#19d3f3\",\"#FF6692\",\"#B6E880\",\"#FF97FF\",\"#FECB52\"],\"font\":{\"color\":\"#f2f5fa\"},\"hovermode\":\"closest\",\"hoverlabel\":{\"align\":\"left\"},\"paper_bgcolor\":\"rgb(17,17,17)\",\"plot_bgcolor\":\"rgb(17,17,17)\",\"polar\":{\"bgcolor\":\"rgb(17,17,17)\",\"angularaxis\":{\"gridcolor\":\"#506784\",\"linecolor\":\"#506784\",\"ticks\":\"\"},\"radialaxis\":{\"gridcolor\":\"#506784\",\"linecolor\":\"#506784\",\"ticks\":\"\"}},\"ternary\":{\"bgcolor\":\"rgb(17,17,17)\",\"aaxis\":{\"gridcolor\":\"#506784\",\"linecolor\":\"#506784\",\"ticks\":\"\"},\"baxis\":{\"gridcolor\":\"#506784\",\"linecolor\":\"#506784\",\"ticks\":\"\"},\"caxis\":{\"gridcolor\":\"#506784\",\"linecolor\":\"#506784\",\"ticks\":\"\"}},\"coloraxis\":{\"colorbar\":{\"outlinewidth\":0,\"ticks\":\"\"}},\"colorscale\":{\"sequential\":[[0.0,\"#0d0887\"],[0.1111111111111111,\"#46039f\"],[0.2222222222222222,\"#7201a8\"],[0.3333333333333333,\"#9c179e\"],[0.4444444444444444,\"#bd3786\"],[0.5555555555555556,\"#d8576b\"],[0.6666666666666666,\"#ed7953\"],[0.7777777777777778,\"#fb9f3a\"],[0.8888888888888888,\"#fdca26\"],[1.0,\"#f0f921\"]],\"sequentialminus\":[[0.0,\"#0d0887\"],[0.1111111111111111,\"#46039f\"],[0.2222222222222222,\"#7201a8\"],[0.3333333333333333,\"#9c179e\"],[0.4444444444444444,\"#bd3786\"],[0.5555555555555556,\"#d8576b\"],[0.6666666666666666,\"#ed7953\"],[0.7777777777777778,\"#fb9f3a\"],[0.8888888888888888,\"#fdca26\"],[1.0,\"#f0f921\"]],\"diverging\":[[0,\"#8e0152\"],[0.1,\"#c51b7d\"],[0.2,\"#de77ae\"],[0.3,\"#f1b6da\"],[0.4,\"#fde0ef\"],[0.5,\"#f7f7f7\"],[0.6,\"#e6f5d0\"],[0.7,\"#b8e186\"],[0.8,\"#7fbc41\"],[0.9,\"#4d9221\"],[1,\"#276419\"]]},\"xaxis\":{\"gridcolor\":\"#283442\",\"linecolor\":\"#506784\",\"ticks\":\"\",\"title\":{\"standoff\":15},\"zerolinecolor\":\"#283442\",\"automargin\":true,\"zerolinewidth\":2},\"yaxis\":{\"gridcolor\":\"#283442\",\"linecolor\":\"#506784\",\"ticks\":\"\",\"title\":{\"standoff\":15},\"zerolinecolor\":\"#283442\",\"automargin\":true,\"zerolinewidth\":2},\"scene\":{\"xaxis\":{\"backgroundcolor\":\"rgb(17,17,17)\",\"gridcolor\":\"#506784\",\"linecolor\":\"#506784\",\"showbackground\":true,\"ticks\":\"\",\"zerolinecolor\":\"#C8D4E3\",\"gridwidth\":2},\"yaxis\":{\"backgroundcolor\":\"rgb(17,17,17)\",\"gridcolor\":\"#506784\",\"linecolor\":\"#506784\",\"showbackground\":true,\"ticks\":\"\",\"zerolinecolor\":\"#C8D4E3\",\"gridwidth\":2},\"zaxis\":{\"backgroundcolor\":\"rgb(17,17,17)\",\"gridcolor\":\"#506784\",\"linecolor\":\"#506784\",\"showbackground\":true,\"ticks\":\"\",\"zerolinecolor\":\"#C8D4E3\",\"gridwidth\":2}},\"shapedefaults\":{\"line\":{\"color\":\"#f2f5fa\"}},\"annotationdefaults\":{\"arrowcolor\":\"#f2f5fa\",\"arrowhead\":0,\"arrowwidth\":1},\"geo\":{\"bgcolor\":\"rgb(17,17,17)\",\"landcolor\":\"rgb(17,17,17)\",\"subunitcolor\":\"#506784\",\"showland\":true,\"showlakes\":true,\"lakecolor\":\"rgb(17,17,17)\"},\"title\":{\"x\":0.05},\"updatemenudefaults\":{\"bgcolor\":\"#506784\",\"borderwidth\":0},\"sliderdefaults\":{\"bgcolor\":\"#C8D4E3\",\"borderwidth\":1,\"bordercolor\":\"rgb(17,17,17)\",\"tickwidth\":0},\"mapbox\":{\"style\":\"dark\"}}},\"xaxis\":{\"anchor\":\"y\",\"domain\":[0.0,1.0],\"title\":{\"text\":\"epoch\"}},\"yaxis\":{\"anchor\":\"x\",\"domain\":[0.0,1.0],\"title\":{\"text\":\"value\"}},\"legend\":{\"title\":{\"text\":\"variable\"},\"tracegroupgap\":0},\"margin\":{\"t\":60}},                        {\"responsive\": true}                    ).then(function(){\n",
       "                            \n",
       "var gd = document.getElementById('097da436-ab8f-466b-a957-22ec0d080635');\n",
       "var x = new MutationObserver(function (mutations, observer) {{\n",
       "        var display = window.getComputedStyle(gd).display;\n",
       "        if (!display || display === 'none') {{\n",
       "            console.log([gd, 'removed!']);\n",
       "            Plotly.purge(gd);\n",
       "            observer.disconnect();\n",
       "        }}\n",
       "}});\n",
       "\n",
       "// Listen for the removal of the full notebook cells\n",
       "var notebookContainer = gd.closest('#notebook-container');\n",
       "if (notebookContainer) {{\n",
       "    x.observe(notebookContainer, {childList: true});\n",
       "}}\n",
       "\n",
       "// Listen for the clearing of the current output cell\n",
       "var outputEl = gd.closest('.output');\n",
       "if (outputEl) {{\n",
       "    x.observe(outputEl, {childList: true});\n",
       "}}\n",
       "\n",
       "                        })                };                });            </script>        </div>"
      ]
     },
     "metadata": {},
     "output_type": "display_data"
    }
   ],
   "execution_count": 396
  },
  {
   "cell_type": "markdown",
   "source": [
    "# hyper parameters\n",
    "1. batch: 32, epochs: ->∞ , hidden: 25, score: 80"
   ],
   "metadata": {
    "id": "tFaC5v0nIg3J"
   }
  },
  {
   "cell_type": "code",
   "source": [],
   "metadata": {
    "id": "wMNMIrMyZL6s",
    "ExecuteTime": {
     "end_time": "2024-05-29T16:02:19.597542Z",
     "start_time": "2024-05-29T16:02:19.589630Z"
    }
   },
   "outputs": [],
   "execution_count": 396
  },
  {
   "metadata": {
    "ExecuteTime": {
     "end_time": "2024-05-29T16:02:19.613687Z",
     "start_time": "2024-05-29T16:02:19.597542Z"
    }
   },
   "cell_type": "code",
   "source": [
    "def load_spike(folder_path ='C:\\\\Users\\H\\PycharmProjects\\IDL-huji\\ex1\\ex1_data\\\\'):\n",
    "    file_path = folder_path+'spike.txt'\n",
    "    with open(file_path, 'r') as f:\n",
    "        raw_spike_data = f.read().replace('\\n', '')\n",
    "    parsed_spike_data_list = [raw_spike_data[i:i+9] for i in range(0, len(raw_spike_data)-8)]\n",
    "    return parsed_spike_data_list"
   ],
   "outputs": [],
   "execution_count": 397
  },
  {
   "metadata": {
    "ExecuteTime": {
     "end_time": "2024-05-29T16:02:19.631951Z",
     "start_time": "2024-05-29T16:02:19.615974Z"
    }
   },
   "cell_type": "code",
   "source": [
    "def predict_spike(model,spike_data):\n",
    "    pred = model(spike_data.to(DEVICE)).detach().cpu().numpy()\n",
    "    return pred"
   ],
   "outputs": [],
   "execution_count": 398
  },
  {
   "metadata": {
    "ExecuteTime": {
     "end_time": "2024-05-29T16:02:19.650027Z",
     "start_time": "2024-05-29T16:02:19.631951Z"
    }
   },
   "cell_type": "code",
   "source": [
    "# find the 3 most likely peptides to be binded to the Corona virus.\n",
    "def find_top_3(pred,spike_data):\n",
    "    top_3 = []\n",
    "    top_3_percentage = []\n",
    "    for i in range(3):\n",
    "        idx = pred.argmax()\n",
    "        top_3.append(spike_data[idx])\n",
    "        top_3_percentage.append(torch.sigmoid(torch.tensor(pred[idx])))\n",
    "        pred[idx] = -5\n",
    "    return top_3, top_3_percentage"
   ],
   "outputs": [],
   "execution_count": 399
  },
  {
   "metadata": {
    "ExecuteTime": {
     "end_time": "2024-05-29T16:02:19.950297Z",
     "start_time": "2024-05-29T16:02:19.650175Z"
    }
   },
   "cell_type": "code",
   "source": [
    "spike_data = load_spike()\n",
    "# print(spike_data)\n",
    "spike_vec = peptide2vec(spike_data)\n",
    "# print(spike_vec)\n",
    "\n"
   ],
   "outputs": [],
   "execution_count": 400
  },
  {
   "metadata": {
    "ExecuteTime": {
     "end_time": "2024-05-29T16:02:19.970701Z",
     "start_time": "2024-05-29T16:02:19.952383Z"
    }
   },
   "cell_type": "code",
   "source": [
    "pred = predict_spike(model, spike_vec)\n",
    "# print(pred)\n",
    "\n",
    "top_3, top3_percentage = find_top_3(pred,spike_data)\n",
    "for i in range(3):\n",
    "    print(f'{top_3[i]}: {round(top3_percentage[i][0].item(),6)}')"
   ],
   "outputs": [
    {
     "name": "stdout",
     "output_type": "stream",
     "text": [
      "YKLPDDFTG: 0.983669\n",
      "YLQPRTFLL: 0.960093\n",
      "LVLLPLVSS: 0.94996\n"
     ]
    }
   ],
   "execution_count": 401
  },
  {
   "metadata": {},
   "cell_type": "code",
   "outputs": [],
   "execution_count": null,
   "source": ""
  }
 ]
}
