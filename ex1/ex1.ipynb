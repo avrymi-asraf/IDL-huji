{
 "nbformat": 4,
 "nbformat_minor": 0,
 "metadata": {
  "colab": {
   "private_outputs": true,
   "provenance": [],
   "authorship_tag": "ABX9TyP5IRMGFOuOTwiY6dIIk22+",
   "include_colab_link": true
  },
  "kernelspec": {
   "name": "python3",
   "display_name": "Python 3 (ipykernel)",
   "language": "python"
  },
  "language_info": {
   "name": "python"
  }
 },
 "cells": [
  {
   "cell_type": "markdown",
   "metadata": {
    "id": "view-in-github",
    "colab_type": "text"
   },
   "source": [
    "<a href=\"https://colab.research.google.com/github/avrymi-asraf/IDL-huji/blob/main/ex1/ex1.ipynb\" target=\"_parent\"><img src=\"https://colab.research.google.com/assets/colab-badge.svg\" alt=\"Open In Colab\"/></a>"
   ]
  },
  {
   "cell_type": "code",
   "source": [
    "import pandas as pd\n",
    "import torch"
   ],
   "metadata": {
    "id": "ViXcSiABL3A9"
   },
   "execution_count": null,
   "outputs": []
  },
  {
   "cell_type": "code",
   "source": [
    "# # for clab\n",
    "# !git clone https://github.com/avrymi-asraf/IDL-huji.git\n",
    "# !mv /content/IDL-huji/ex1/ex1_data* ."
   ],
   "metadata": {
    "id": "NSb7IqrvNSL6",
    "ExecuteTime": {
     "end_time": "2024-05-15T12:50:34.718180Z",
     "start_time": "2024-05-15T12:50:34.710096Z"
    }
   },
   "outputs": [],
   "execution_count": 1
  },
  {
   "cell_type": "code",
   "source": [
    "# make data into 180 vector\n",
    "def load_raw():\n",
    "    raw_neg_data = open('C:\\\\Users\\H\\PycharmProjects\\IDL-huji\\ex1\\ex1_data\\\\neg_A0201.txt', 'r').read().split('\\n')\n",
    "    raw_pos_data = open('C:\\\\Users\\H\\PycharmProjects\\IDL-huji\\ex1\\ex1_data\\pos_A0201.txt', 'r').read().split('\\n')\n",
    "    return raw_neg_data, raw_pos_data\n",
    "raw_neg_data , raw_pos_data = load_raw()\n",
    "\n",
    "amino_to_ind = {i:c for c,i in enumerate(set(\"\".join(raw_neg_data)))}\n",
    "print(amino_to_ind)"
   ],
   "metadata": {
    "id": "EWRJbOscRCsd",
    "ExecuteTime": {
     "end_time": "2024-05-15T12:55:02.451453Z",
     "start_time": "2024-05-15T12:55:02.435433Z"
    }
   },
   "outputs": [
    {
     "name": "stdout",
     "output_type": "stream",
     "text": [
      "{'D': 0, 'W': 1, 'Q': 2, 'R': 3, 'M': 4, 'T': 5, 'L': 6, 'Y': 7, 'F': 8, 'H': 9, 'S': 10, 'A': 11, 'N': 12, 'V': 13, 'P': 14, 'E': 15, 'C': 16, 'K': 17, 'G': 18, 'I': 19}\n"
     ]
    }
   ],
   "execution_count": 13
  },
  {
   "metadata": {
    "ExecuteTime": {
     "end_time": "2024-05-15T12:53:23.696544Z",
     "start_time": "2024-05-15T12:53:23.680546Z"
    }
   },
   "cell_type": "code",
   "source": "def ",
   "outputs": [
    {
     "ename": "SyntaxError",
     "evalue": "invalid syntax (3270555923.py, line 1)",
     "output_type": "error",
     "traceback": [
      "\u001B[1;36m  Cell \u001B[1;32mIn[8], line 1\u001B[1;36m\u001B[0m\n\u001B[1;33m    def\u001B[0m\n\u001B[1;37m        ^\u001B[0m\n\u001B[1;31mSyntaxError\u001B[0m\u001B[1;31m:\u001B[0m invalid syntax\n"
     ]
    }
   ],
   "execution_count": 8
  },
  {
   "metadata": {},
   "cell_type": "code",
   "outputs": [],
   "execution_count": null,
   "source": ""
  }
 ]
}
